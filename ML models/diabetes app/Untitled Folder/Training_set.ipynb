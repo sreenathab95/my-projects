{
 "cells": [
  {
   "cell_type": "code",
   "execution_count": 2,
   "id": "66171474",
   "metadata": {},
   "outputs": [
    {
     "name": "stdout",
     "output_type": "stream",
     "text": [
      "✅ Model and encoders saved successfully!\n"
     ]
    }
   ],
   "source": [
    "import pandas as pd\n",
    "import numpy as np\n",
    "from sklearn.model_selection import train_test_split\n",
    "from sklearn.preprocessing import LabelEncoder\n",
    "from sklearn.ensemble import RandomForestClassifier\n",
    "import pickle\n",
    "\n",
    "# ------------------------------\n",
    "# 1. Load Data\n",
    "# ------------------------------\n",
    "df = pd.read_csv(\"/home/gouri/Documents/jupiter/env/worksheets/my_work/diabetes_prediction_dataset.csv\")  # Change to your dataset path\n",
    "\n",
    "# ------------------------------\n",
    "# 2. Encode Categorical Columns\n",
    "# ------------------------------\n",
    "label_encoders = {}\n",
    "categorical_cols = df.select_dtypes(include=[\"object\"]).columns\n",
    "\n",
    "for col in categorical_cols:\n",
    "    le = LabelEncoder()\n",
    "    df[col] = le.fit_transform(df[col])\n",
    "    label_encoders[col] = le\n",
    "\n",
    "# Save the label encoders for later use in hosting\n",
    "with open(\"label_encoders.pkl\", \"wb\") as f:\n",
    "    pickle.dump(label_encoders, f)\n",
    "\n",
    "# ------------------------------\n",
    "# 3. Train-Test Split\n",
    "# ------------------------------\n",
    "X = df.drop(\"diabetes\", axis=1)  # Change \"Outcome\" to your target column\n",
    "y = df[\"diabetes\"]\n",
    "\n",
    "X_train, X_test, y_train, y_test = train_test_split(X, y, test_size=0.2, random_state=42)\n",
    "\n",
    "# ------------------------------\n",
    "# 4. Train Model\n",
    "# ------------------------------\n",
    "model = RandomForestClassifier(random_state=42)\n",
    "model.fit(X_train, y_train)\n",
    "\n",
    "# ------------------------------\n",
    "# 5. Save Model\n",
    "# ------------------------------\n",
    "with open(\"diabetes_model.pkl\", \"wb\") as f:\n",
    "    pickle.dump(model, f)\n",
    "\n",
    "print(\"✅ Model and encoders saved successfully!\")\n"
   ]
  },
  {
   "cell_type": "code",
   "execution_count": null,
   "id": "3af664d7",
   "metadata": {},
   "outputs": [],
   "source": []
  }
 ],
 "metadata": {
  "kernelspec": {
   "display_name": "Python 3 (ipykernel)",
   "language": "python",
   "name": "python3"
  },
  "language_info": {
   "codemirror_mode": {
    "name": "ipython",
    "version": 3
   },
   "file_extension": ".py",
   "mimetype": "text/x-python",
   "name": "python",
   "nbconvert_exporter": "python",
   "pygments_lexer": "ipython3",
   "version": "3.10.12"
  }
 },
 "nbformat": 4,
 "nbformat_minor": 5
}
