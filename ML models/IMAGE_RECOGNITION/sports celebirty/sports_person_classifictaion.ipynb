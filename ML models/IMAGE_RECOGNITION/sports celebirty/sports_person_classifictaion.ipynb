{
 "cells": [
  {
   "cell_type": "code",
   "execution_count": 1,
   "id": "75167a4e",
   "metadata": {},
   "outputs": [],
   "source": [
    "import cv2\n",
    "import matplotlib.pyplot as plt\n",
    "%matplotlib inline\n",
    "import numpy as np\n",
    "\n"
   ]
  },
  {
   "cell_type": "code",
   "execution_count": 2,
   "id": "80406f59",
   "metadata": {},
   "outputs": [],
   "source": [
    "face_cascade =cv2.CascadeClassifier('/home/gouri/Documents/jupiter/mach_learning/image recognition/haarcascades/haarcascade_frontalface_default.xml')\n",
    "eye_cascade = cv2.CascadeClassifier('/home/gouri/Documents/jupiter/mach_learning/image recognition/haarcascades/haarcascade_eye.xml')\n"
   ]
  },
  {
   "cell_type": "code",
   "execution_count": null,
   "id": "ee2c4f95",
   "metadata": {},
   "outputs": [],
   "source": []
  },
  {
   "cell_type": "code",
   "execution_count": 3,
   "id": "02d48026",
   "metadata": {},
   "outputs": [],
   "source": [
    "def get_cropped_imag_if_2_eyes(image_path):\n",
    "    try:\n",
    "        image = cv2.imread(image_path)\n",
    "        grey = cv2.cvtColor(image,cv2.COLOR_BGR2GRAY)\n",
    "        faces = face_cascade.detectMultiScale(grey,1.3,5)\n",
    "        for (x,y,w,h) in faces:\n",
    "            roi_grey = grey[y:y+h, x:x+w]\n",
    "            roi_color = image[y:y+h, x:x+w]\n",
    "            eyes = eye_cascade.detectMultiScale(roi_grey)\n",
    "            if len(eyes)>=2:\n",
    "                return roi_color\n",
    "    except:\n",
    "        print(\"error occured\")\n",
    "        pass"
   ]
  },
  {
   "cell_type": "code",
   "execution_count": 12,
   "id": "0bd025ab",
   "metadata": {},
   "outputs": [],
   "source": [
    "path_to_data = \"/home/gouri/Documents/jupiter/git/ML models/IMAGE_RECOGNITION/sports celebirty/photos\"\n",
    "path_to_cropped_data = \"/home/gouri/Documents/jupiter/git/ML models/IMAGE_RECOGNITION/sports celebirty/cropped/\""
   ]
  },
  {
   "cell_type": "code",
   "execution_count": 13,
   "id": "b56addc8",
   "metadata": {},
   "outputs": [],
   "source": [
    "import os \n",
    "image_dir = []\n",
    "for entry in os.scandir(path_to_data):\n",
    "    if entry.is_dir():\n",
    "        image_dir.append(entry.path)\n",
    "\n",
    "        \n",
    "import shutil\n",
    "if os.path.exists(path_to_cropped_data):\n",
    "    shutil.rmtree(path_to_cropped_data)\n",
    "os.mkdir(path_to_cropped_data)"
   ]
  },
  {
   "cell_type": "code",
   "execution_count": 14,
   "id": "6bccf409",
   "metadata": {},
   "outputs": [
    {
     "data": {
      "text/plain": [
       "'/home/gouri/Documents/jupiter/git/ML models/IMAGE_RECOGNITION/sports celebirty/photos/sunil chhetri - Google Search'"
      ]
     },
     "execution_count": 14,
     "metadata": {},
     "output_type": "execute_result"
    }
   ],
   "source": [
    "image_dir[1]"
   ]
  },
  {
   "cell_type": "code",
   "execution_count": 15,
   "id": "50f7387e",
   "metadata": {
    "scrolled": true
   },
   "outputs": [
    {
     "name": "stdout",
     "output_type": "stream",
     "text": [
      "generating cropped images in the folder /home/gouri/Documents/jupiter/git/ML models/IMAGE_RECOGNITION/sports celebirty/cropped/suryakumar yadav images - Google Search\n",
      "generating cropped images in the folder /home/gouri/Documents/jupiter/git/ML models/IMAGE_RECOGNITION/sports celebirty/cropped/suryakumar yadav images - Google Search\n",
      "generating cropped images in the folder /home/gouri/Documents/jupiter/git/ML models/IMAGE_RECOGNITION/sports celebirty/cropped/suryakumar yadav images - Google Search\n"
     ]
    },
    {
     "name": "stderr",
     "output_type": "stream",
     "text": [
      "libpng warning: iCCP: known incorrect sRGB profile\n"
     ]
    },
    {
     "name": "stdout",
     "output_type": "stream",
     "text": [
      "generating cropped images in the folder /home/gouri/Documents/jupiter/git/ML models/IMAGE_RECOGNITION/sports celebirty/cropped/suryakumar yadav images - Google Search\n",
      "generating cropped images in the folder /home/gouri/Documents/jupiter/git/ML models/IMAGE_RECOGNITION/sports celebirty/cropped/suryakumar yadav images - Google Search\n",
      "generating cropped images in the folder /home/gouri/Documents/jupiter/git/ML models/IMAGE_RECOGNITION/sports celebirty/cropped/suryakumar yadav images - Google Search\n",
      "generating cropped images in the folder /home/gouri/Documents/jupiter/git/ML models/IMAGE_RECOGNITION/sports celebirty/cropped/suryakumar yadav images - Google Search\n",
      "generating cropped images in the folder /home/gouri/Documents/jupiter/git/ML models/IMAGE_RECOGNITION/sports celebirty/cropped/suryakumar yadav images - Google Search\n",
      "generating cropped images in the folder /home/gouri/Documents/jupiter/git/ML models/IMAGE_RECOGNITION/sports celebirty/cropped/suryakumar yadav images - Google Search\n",
      "generating cropped images in the folder /home/gouri/Documents/jupiter/git/ML models/IMAGE_RECOGNITION/sports celebirty/cropped/suryakumar yadav images - Google Search\n",
      "generating cropped images in the folder /home/gouri/Documents/jupiter/git/ML models/IMAGE_RECOGNITION/sports celebirty/cropped/suryakumar yadav images - Google Search\n",
      "generating cropped images in the folder /home/gouri/Documents/jupiter/git/ML models/IMAGE_RECOGNITION/sports celebirty/cropped/suryakumar yadav images - Google Search\n",
      "generating cropped images in the folder /home/gouri/Documents/jupiter/git/ML models/IMAGE_RECOGNITION/sports celebirty/cropped/suryakumar yadav images - Google Search\n",
      "generating cropped images in the folder /home/gouri/Documents/jupiter/git/ML models/IMAGE_RECOGNITION/sports celebirty/cropped/suryakumar yadav images - Google Search\n",
      "generating cropped images in the folder /home/gouri/Documents/jupiter/git/ML models/IMAGE_RECOGNITION/sports celebirty/cropped/suryakumar yadav images - Google Search\n",
      "generating cropped images in the folder /home/gouri/Documents/jupiter/git/ML models/IMAGE_RECOGNITION/sports celebirty/cropped/suryakumar yadav images - Google Search\n",
      "generating cropped images in the folder /home/gouri/Documents/jupiter/git/ML models/IMAGE_RECOGNITION/sports celebirty/cropped/suryakumar yadav images - Google Search\n",
      "generating cropped images in the folder /home/gouri/Documents/jupiter/git/ML models/IMAGE_RECOGNITION/sports celebirty/cropped/suryakumar yadav images - Google Search\n",
      "generating cropped images in the folder /home/gouri/Documents/jupiter/git/ML models/IMAGE_RECOGNITION/sports celebirty/cropped/suryakumar yadav images - Google Search\n",
      "generating cropped images in the folder /home/gouri/Documents/jupiter/git/ML models/IMAGE_RECOGNITION/sports celebirty/cropped/suryakumar yadav images - Google Search\n",
      "generating cropped images in the folder /home/gouri/Documents/jupiter/git/ML models/IMAGE_RECOGNITION/sports celebirty/cropped/suryakumar yadav images - Google Search\n",
      "generating cropped images in the folder /home/gouri/Documents/jupiter/git/ML models/IMAGE_RECOGNITION/sports celebirty/cropped/suryakumar yadav images - Google Search\n",
      "generating cropped images in the folder /home/gouri/Documents/jupiter/git/ML models/IMAGE_RECOGNITION/sports celebirty/cropped/suryakumar yadav images - Google Search\n",
      "generating cropped images in the folder /home/gouri/Documents/jupiter/git/ML models/IMAGE_RECOGNITION/sports celebirty/cropped/suryakumar yadav images - Google Search\n",
      "generating cropped images in the folder /home/gouri/Documents/jupiter/git/ML models/IMAGE_RECOGNITION/sports celebirty/cropped/suryakumar yadav images - Google Search\n",
      "generating cropped images in the folder /home/gouri/Documents/jupiter/git/ML models/IMAGE_RECOGNITION/sports celebirty/cropped/suryakumar yadav images - Google Search\n",
      "generating cropped images in the folder /home/gouri/Documents/jupiter/git/ML models/IMAGE_RECOGNITION/sports celebirty/cropped/suryakumar yadav images - Google Search\n",
      "generating cropped images in the folder /home/gouri/Documents/jupiter/git/ML models/IMAGE_RECOGNITION/sports celebirty/cropped/suryakumar yadav images - Google Search\n",
      "generating cropped images in the folder /home/gouri/Documents/jupiter/git/ML models/IMAGE_RECOGNITION/sports celebirty/cropped/suryakumar yadav images - Google Search\n",
      "generating cropped images in the folder /home/gouri/Documents/jupiter/git/ML models/IMAGE_RECOGNITION/sports celebirty/cropped/suryakumar yadav images - Google Search\n",
      "generating cropped images in the folder /home/gouri/Documents/jupiter/git/ML models/IMAGE_RECOGNITION/sports celebirty/cropped/suryakumar yadav images - Google Search\n",
      "generating cropped images in the folder /home/gouri/Documents/jupiter/git/ML models/IMAGE_RECOGNITION/sports celebirty/cropped/suryakumar yadav images - Google Search\n",
      "generating cropped images in the folder /home/gouri/Documents/jupiter/git/ML models/IMAGE_RECOGNITION/sports celebirty/cropped/suryakumar yadav images - Google Search\n",
      "generating cropped images in the folder /home/gouri/Documents/jupiter/git/ML models/IMAGE_RECOGNITION/sports celebirty/cropped/suryakumar yadav images - Google Search\n",
      "generating cropped images in the folder /home/gouri/Documents/jupiter/git/ML models/IMAGE_RECOGNITION/sports celebirty/cropped/suryakumar yadav images - Google Search\n",
      "generating cropped images in the folder /home/gouri/Documents/jupiter/git/ML models/IMAGE_RECOGNITION/sports celebirty/cropped/suryakumar yadav images - Google Search\n",
      "generating cropped images in the folder /home/gouri/Documents/jupiter/git/ML models/IMAGE_RECOGNITION/sports celebirty/cropped/sunil chhetri - Google Search\n",
      "generating cropped images in the folder /home/gouri/Documents/jupiter/git/ML models/IMAGE_RECOGNITION/sports celebirty/cropped/sunil chhetri - Google Search\n",
      "generating cropped images in the folder /home/gouri/Documents/jupiter/git/ML models/IMAGE_RECOGNITION/sports celebirty/cropped/sunil chhetri - Google Search\n",
      "generating cropped images in the folder /home/gouri/Documents/jupiter/git/ML models/IMAGE_RECOGNITION/sports celebirty/cropped/sunil chhetri - Google Search\n",
      "generating cropped images in the folder /home/gouri/Documents/jupiter/git/ML models/IMAGE_RECOGNITION/sports celebirty/cropped/sunil chhetri - Google Search\n",
      "generating cropped images in the folder /home/gouri/Documents/jupiter/git/ML models/IMAGE_RECOGNITION/sports celebirty/cropped/sunil chhetri - Google Search\n",
      "generating cropped images in the folder /home/gouri/Documents/jupiter/git/ML models/IMAGE_RECOGNITION/sports celebirty/cropped/sunil chhetri - Google Search\n",
      "generating cropped images in the folder /home/gouri/Documents/jupiter/git/ML models/IMAGE_RECOGNITION/sports celebirty/cropped/sunil chhetri - Google Search\n",
      "generating cropped images in the folder /home/gouri/Documents/jupiter/git/ML models/IMAGE_RECOGNITION/sports celebirty/cropped/sunil chhetri - Google Search\n",
      "generating cropped images in the folder /home/gouri/Documents/jupiter/git/ML models/IMAGE_RECOGNITION/sports celebirty/cropped/sunil chhetri - Google Search\n",
      "generating cropped images in the folder /home/gouri/Documents/jupiter/git/ML models/IMAGE_RECOGNITION/sports celebirty/cropped/sunil chhetri - Google Search\n",
      "generating cropped images in the folder /home/gouri/Documents/jupiter/git/ML models/IMAGE_RECOGNITION/sports celebirty/cropped/sunil chhetri - Google Search\n",
      "generating cropped images in the folder /home/gouri/Documents/jupiter/git/ML models/IMAGE_RECOGNITION/sports celebirty/cropped/sunil chhetri - Google Search\n",
      "generating cropped images in the folder /home/gouri/Documents/jupiter/git/ML models/IMAGE_RECOGNITION/sports celebirty/cropped/sunil chhetri - Google Search\n",
      "generating cropped images in the folder /home/gouri/Documents/jupiter/git/ML models/IMAGE_RECOGNITION/sports celebirty/cropped/sunil chhetri - Google Search\n",
      "generating cropped images in the folder /home/gouri/Documents/jupiter/git/ML models/IMAGE_RECOGNITION/sports celebirty/cropped/sunil chhetri - Google Search\n",
      "generating cropped images in the folder /home/gouri/Documents/jupiter/git/ML models/IMAGE_RECOGNITION/sports celebirty/cropped/sunil chhetri - Google Search\n",
      "generating cropped images in the folder /home/gouri/Documents/jupiter/git/ML models/IMAGE_RECOGNITION/sports celebirty/cropped/sunil chhetri - Google Search\n"
     ]
    },
    {
     "name": "stdout",
     "output_type": "stream",
     "text": [
      "generating cropped images in the folder /home/gouri/Documents/jupiter/git/ML models/IMAGE_RECOGNITION/sports celebirty/cropped/sunil chhetri - Google Search\n",
      "generating cropped images in the folder /home/gouri/Documents/jupiter/git/ML models/IMAGE_RECOGNITION/sports celebirty/cropped/sunil chhetri - Google Search\n",
      "generating cropped images in the folder /home/gouri/Documents/jupiter/git/ML models/IMAGE_RECOGNITION/sports celebirty/cropped/sunil chhetri - Google Search\n",
      "generating cropped images in the folder /home/gouri/Documents/jupiter/git/ML models/IMAGE_RECOGNITION/sports celebirty/cropped/sunil chhetri - Google Search\n",
      "generating cropped images in the folder /home/gouri/Documents/jupiter/git/ML models/IMAGE_RECOGNITION/sports celebirty/cropped/sunil chhetri - Google Search\n",
      "generating cropped images in the folder /home/gouri/Documents/jupiter/git/ML models/IMAGE_RECOGNITION/sports celebirty/cropped/sunil chhetri - Google Search\n",
      "generating cropped images in the folder /home/gouri/Documents/jupiter/git/ML models/IMAGE_RECOGNITION/sports celebirty/cropped/sunil chhetri - Google Search\n",
      "generating cropped images in the folder /home/gouri/Documents/jupiter/git/ML models/IMAGE_RECOGNITION/sports celebirty/cropped/sunil chhetri - Google Search\n",
      "generating cropped images in the folder /home/gouri/Documents/jupiter/git/ML models/IMAGE_RECOGNITION/sports celebirty/cropped/sunil chhetri - Google Search\n",
      "generating cropped images in the folder /home/gouri/Documents/jupiter/git/ML models/IMAGE_RECOGNITION/sports celebirty/cropped/sunil chhetri - Google Search\n",
      "generating cropped images in the folder /home/gouri/Documents/jupiter/git/ML models/IMAGE_RECOGNITION/sports celebirty/cropped/sunil chhetri - Google Search\n",
      "generating cropped images in the folder /home/gouri/Documents/jupiter/git/ML models/IMAGE_RECOGNITION/sports celebirty/cropped/sunil chhetri - Google Search\n",
      "generating cropped images in the folder /home/gouri/Documents/jupiter/git/ML models/IMAGE_RECOGNITION/sports celebirty/cropped/sunil chhetri - Google Search\n",
      "generating cropped images in the folder /home/gouri/Documents/jupiter/git/ML models/IMAGE_RECOGNITION/sports celebirty/cropped/sunil chhetri - Google Search\n",
      "generating cropped images in the folder /home/gouri/Documents/jupiter/git/ML models/IMAGE_RECOGNITION/sports celebirty/cropped/sunil chhetri - Google Search\n",
      "generating cropped images in the folder /home/gouri/Documents/jupiter/git/ML models/IMAGE_RECOGNITION/sports celebirty/cropped/sunil chhetri - Google Search\n",
      "generating cropped images in the folder /home/gouri/Documents/jupiter/git/ML models/IMAGE_RECOGNITION/sports celebirty/cropped/sunil chhetri - Google Search\n",
      "error occured\n",
      "generating cropped images in the folder /home/gouri/Documents/jupiter/git/ML models/IMAGE_RECOGNITION/sports celebirty/cropped/sunil chhetri - Google Search\n",
      "generating cropped images in the folder /home/gouri/Documents/jupiter/git/ML models/IMAGE_RECOGNITION/sports celebirty/cropped/sunil chhetri - Google Search\n",
      "generating cropped images in the folder /home/gouri/Documents/jupiter/git/ML models/IMAGE_RECOGNITION/sports celebirty/cropped/sunil chhetri - Google Search\n",
      "generating cropped images in the folder /home/gouri/Documents/jupiter/git/ML models/IMAGE_RECOGNITION/sports celebirty/cropped/sunil chhetri - Google Search\n",
      "generating cropped images in the folder /home/gouri/Documents/jupiter/git/ML models/IMAGE_RECOGNITION/sports celebirty/cropped/sunil chhetri - Google Search\n",
      "generating cropped images in the folder /home/gouri/Documents/jupiter/git/ML models/IMAGE_RECOGNITION/sports celebirty/cropped/sunil chhetri - Google Search\n",
      "generating cropped images in the folder /home/gouri/Documents/jupiter/git/ML models/IMAGE_RECOGNITION/sports celebirty/cropped/batmindon player srikanth - Google Search\n",
      "generating cropped images in the folder /home/gouri/Documents/jupiter/git/ML models/IMAGE_RECOGNITION/sports celebirty/cropped/batmindon player srikanth - Google Search\n",
      "generating cropped images in the folder /home/gouri/Documents/jupiter/git/ML models/IMAGE_RECOGNITION/sports celebirty/cropped/batmindon player srikanth - Google Search\n",
      "generating cropped images in the folder /home/gouri/Documents/jupiter/git/ML models/IMAGE_RECOGNITION/sports celebirty/cropped/batmindon player srikanth - Google Search\n",
      "generating cropped images in the folder /home/gouri/Documents/jupiter/git/ML models/IMAGE_RECOGNITION/sports celebirty/cropped/batmindon player srikanth - Google Search\n",
      "generating cropped images in the folder /home/gouri/Documents/jupiter/git/ML models/IMAGE_RECOGNITION/sports celebirty/cropped/batmindon player srikanth - Google Search\n",
      "generating cropped images in the folder /home/gouri/Documents/jupiter/git/ML models/IMAGE_RECOGNITION/sports celebirty/cropped/batmindon player srikanth - Google Search\n",
      "generating cropped images in the folder /home/gouri/Documents/jupiter/git/ML models/IMAGE_RECOGNITION/sports celebirty/cropped/batmindon player srikanth - Google Search\n",
      "generating cropped images in the folder /home/gouri/Documents/jupiter/git/ML models/IMAGE_RECOGNITION/sports celebirty/cropped/batmindon player srikanth - Google Search\n",
      "generating cropped images in the folder /home/gouri/Documents/jupiter/git/ML models/IMAGE_RECOGNITION/sports celebirty/cropped/batmindon player srikanth - Google Search\n",
      "generating cropped images in the folder /home/gouri/Documents/jupiter/git/ML models/IMAGE_RECOGNITION/sports celebirty/cropped/batmindon player srikanth - Google Search\n",
      "generating cropped images in the folder /home/gouri/Documents/jupiter/git/ML models/IMAGE_RECOGNITION/sports celebirty/cropped/batmindon player srikanth - Google Search\n",
      "generating cropped images in the folder /home/gouri/Documents/jupiter/git/ML models/IMAGE_RECOGNITION/sports celebirty/cropped/batmindon player srikanth - Google Search\n",
      "generating cropped images in the folder /home/gouri/Documents/jupiter/git/ML models/IMAGE_RECOGNITION/sports celebirty/cropped/batmindon player srikanth - Google Search\n",
      "generating cropped images in the folder /home/gouri/Documents/jupiter/git/ML models/IMAGE_RECOGNITION/sports celebirty/cropped/batmindon player srikanth - Google Search\n",
      "generating cropped images in the folder /home/gouri/Documents/jupiter/git/ML models/IMAGE_RECOGNITION/sports celebirty/cropped/batmindon player srikanth - Google Search\n",
      "generating cropped images in the folder /home/gouri/Documents/jupiter/git/ML models/IMAGE_RECOGNITION/sports celebirty/cropped/batmindon player srikanth - Google Search\n",
      "generating cropped images in the folder /home/gouri/Documents/jupiter/git/ML models/IMAGE_RECOGNITION/sports celebirty/cropped/batmindon player srikanth - Google Search\n",
      "generating cropped images in the folder /home/gouri/Documents/jupiter/git/ML models/IMAGE_RECOGNITION/sports celebirty/cropped/batmindon player srikanth - Google Search\n",
      "generating cropped images in the folder /home/gouri/Documents/jupiter/git/ML models/IMAGE_RECOGNITION/sports celebirty/cropped/batmindon player srikanth - Google Search\n",
      "generating cropped images in the folder /home/gouri/Documents/jupiter/git/ML models/IMAGE_RECOGNITION/sports celebirty/cropped/batmindon player srikanth - Google Search\n",
      "generating cropped images in the folder /home/gouri/Documents/jupiter/git/ML models/IMAGE_RECOGNITION/sports celebirty/cropped/batmindon player srikanth - Google Search\n",
      "generating cropped images in the folder /home/gouri/Documents/jupiter/git/ML models/IMAGE_RECOGNITION/sports celebirty/cropped/batmindon player srikanth - Google Search\n",
      "generating cropped images in the folder /home/gouri/Documents/jupiter/git/ML models/IMAGE_RECOGNITION/sports celebirty/cropped/batmindon player srikanth - Google Search\n",
      "generating cropped images in the folder /home/gouri/Documents/jupiter/git/ML models/IMAGE_RECOGNITION/sports celebirty/cropped/batmindon player srikanth - Google Search\n",
      "generating cropped images in the folder /home/gouri/Documents/jupiter/git/ML models/IMAGE_RECOGNITION/sports celebirty/cropped/batmindon player srikanth - Google Search\n",
      "generating cropped images in the folder /home/gouri/Documents/jupiter/git/ML models/IMAGE_RECOGNITION/sports celebirty/cropped/pv sindhu - Google Search\n",
      "generating cropped images in the folder /home/gouri/Documents/jupiter/git/ML models/IMAGE_RECOGNITION/sports celebirty/cropped/pv sindhu - Google Search\n",
      "generating cropped images in the folder /home/gouri/Documents/jupiter/git/ML models/IMAGE_RECOGNITION/sports celebirty/cropped/pv sindhu - Google Search\n"
     ]
    },
    {
     "name": "stdout",
     "output_type": "stream",
     "text": [
      "generating cropped images in the folder /home/gouri/Documents/jupiter/git/ML models/IMAGE_RECOGNITION/sports celebirty/cropped/pv sindhu - Google Search\n",
      "generating cropped images in the folder /home/gouri/Documents/jupiter/git/ML models/IMAGE_RECOGNITION/sports celebirty/cropped/pv sindhu - Google Search\n",
      "generating cropped images in the folder /home/gouri/Documents/jupiter/git/ML models/IMAGE_RECOGNITION/sports celebirty/cropped/pv sindhu - Google Search\n",
      "generating cropped images in the folder /home/gouri/Documents/jupiter/git/ML models/IMAGE_RECOGNITION/sports celebirty/cropped/pv sindhu - Google Search\n",
      "generating cropped images in the folder /home/gouri/Documents/jupiter/git/ML models/IMAGE_RECOGNITION/sports celebirty/cropped/pv sindhu - Google Search\n",
      "generating cropped images in the folder /home/gouri/Documents/jupiter/git/ML models/IMAGE_RECOGNITION/sports celebirty/cropped/pv sindhu - Google Search\n",
      "generating cropped images in the folder /home/gouri/Documents/jupiter/git/ML models/IMAGE_RECOGNITION/sports celebirty/cropped/pv sindhu - Google Search\n",
      "generating cropped images in the folder /home/gouri/Documents/jupiter/git/ML models/IMAGE_RECOGNITION/sports celebirty/cropped/pv sindhu - Google Search\n",
      "generating cropped images in the folder /home/gouri/Documents/jupiter/git/ML models/IMAGE_RECOGNITION/sports celebirty/cropped/pv sindhu - Google Search\n",
      "generating cropped images in the folder /home/gouri/Documents/jupiter/git/ML models/IMAGE_RECOGNITION/sports celebirty/cropped/pv sindhu - Google Search\n",
      "generating cropped images in the folder /home/gouri/Documents/jupiter/git/ML models/IMAGE_RECOGNITION/sports celebirty/cropped/pv sindhu - Google Search\n",
      "generating cropped images in the folder /home/gouri/Documents/jupiter/git/ML models/IMAGE_RECOGNITION/sports celebirty/cropped/pv sindhu - Google Search\n",
      "generating cropped images in the folder /home/gouri/Documents/jupiter/git/ML models/IMAGE_RECOGNITION/sports celebirty/cropped/pv sindhu - Google Search\n",
      "generating cropped images in the folder /home/gouri/Documents/jupiter/git/ML models/IMAGE_RECOGNITION/sports celebirty/cropped/pv sindhu - Google Search\n",
      "generating cropped images in the folder /home/gouri/Documents/jupiter/git/ML models/IMAGE_RECOGNITION/sports celebirty/cropped/pv sindhu - Google Search\n",
      "generating cropped images in the folder /home/gouri/Documents/jupiter/git/ML models/IMAGE_RECOGNITION/sports celebirty/cropped/pv sindhu - Google Search\n",
      "generating cropped images in the folder /home/gouri/Documents/jupiter/git/ML models/IMAGE_RECOGNITION/sports celebirty/cropped/pv sindhu - Google Search\n",
      "generating cropped images in the folder /home/gouri/Documents/jupiter/git/ML models/IMAGE_RECOGNITION/sports celebirty/cropped/pv sindhu - Google Search\n",
      "generating cropped images in the folder /home/gouri/Documents/jupiter/git/ML models/IMAGE_RECOGNITION/sports celebirty/cropped/pv sindhu - Google Search\n",
      "generating cropped images in the folder /home/gouri/Documents/jupiter/git/ML models/IMAGE_RECOGNITION/sports celebirty/cropped/pv sindhu - Google Search\n",
      "generating cropped images in the folder /home/gouri/Documents/jupiter/git/ML models/IMAGE_RECOGNITION/sports celebirty/cropped/pv sindhu - Google Search\n",
      "generating cropped images in the folder /home/gouri/Documents/jupiter/git/ML models/IMAGE_RECOGNITION/sports celebirty/cropped/pv sindhu - Google Search\n",
      "generating cropped images in the folder /home/gouri/Documents/jupiter/git/ML models/IMAGE_RECOGNITION/sports celebirty/cropped/pv sindhu - Google Search\n",
      "generating cropped images in the folder /home/gouri/Documents/jupiter/git/ML models/IMAGE_RECOGNITION/sports celebirty/cropped/pv sindhu - Google Search\n",
      "generating cropped images in the folder /home/gouri/Documents/jupiter/git/ML models/IMAGE_RECOGNITION/sports celebirty/cropped/pv sindhu - Google Search\n",
      "generating cropped images in the folder /home/gouri/Documents/jupiter/git/ML models/IMAGE_RECOGNITION/sports celebirty/cropped/pv sindhu - Google Search\n",
      "generating cropped images in the folder /home/gouri/Documents/jupiter/git/ML models/IMAGE_RECOGNITION/sports celebirty/cropped/pv sindhu - Google Search\n",
      "generating cropped images in the folder /home/gouri/Documents/jupiter/git/ML models/IMAGE_RECOGNITION/sports celebirty/cropped/pv sindhu - Google Search\n",
      "generating cropped images in the folder /home/gouri/Documents/jupiter/git/ML models/IMAGE_RECOGNITION/sports celebirty/cropped/hockey player sreejesh - Google Search\n",
      "generating cropped images in the folder /home/gouri/Documents/jupiter/git/ML models/IMAGE_RECOGNITION/sports celebirty/cropped/hockey player sreejesh - Google Search\n",
      "generating cropped images in the folder /home/gouri/Documents/jupiter/git/ML models/IMAGE_RECOGNITION/sports celebirty/cropped/hockey player sreejesh - Google Search\n",
      "generating cropped images in the folder /home/gouri/Documents/jupiter/git/ML models/IMAGE_RECOGNITION/sports celebirty/cropped/hockey player sreejesh - Google Search\n",
      "generating cropped images in the folder /home/gouri/Documents/jupiter/git/ML models/IMAGE_RECOGNITION/sports celebirty/cropped/hockey player sreejesh - Google Search\n",
      "generating cropped images in the folder /home/gouri/Documents/jupiter/git/ML models/IMAGE_RECOGNITION/sports celebirty/cropped/hockey player sreejesh - Google Search\n",
      "generating cropped images in the folder /home/gouri/Documents/jupiter/git/ML models/IMAGE_RECOGNITION/sports celebirty/cropped/hockey player sreejesh - Google Search\n",
      "generating cropped images in the folder /home/gouri/Documents/jupiter/git/ML models/IMAGE_RECOGNITION/sports celebirty/cropped/hockey player sreejesh - Google Search\n",
      "generating cropped images in the folder /home/gouri/Documents/jupiter/git/ML models/IMAGE_RECOGNITION/sports celebirty/cropped/hockey player sreejesh - Google Search\n",
      "generating cropped images in the folder /home/gouri/Documents/jupiter/git/ML models/IMAGE_RECOGNITION/sports celebirty/cropped/hockey player sreejesh - Google Search\n",
      "generating cropped images in the folder /home/gouri/Documents/jupiter/git/ML models/IMAGE_RECOGNITION/sports celebirty/cropped/hockey player sreejesh - Google Search\n",
      "generating cropped images in the folder /home/gouri/Documents/jupiter/git/ML models/IMAGE_RECOGNITION/sports celebirty/cropped/hockey player sreejesh - Google Search\n",
      "generating cropped images in the folder /home/gouri/Documents/jupiter/git/ML models/IMAGE_RECOGNITION/sports celebirty/cropped/hockey player sreejesh - Google Search\n",
      "generating cropped images in the folder /home/gouri/Documents/jupiter/git/ML models/IMAGE_RECOGNITION/sports celebirty/cropped/hockey player sreejesh - Google Search\n",
      "generating cropped images in the folder /home/gouri/Documents/jupiter/git/ML models/IMAGE_RECOGNITION/sports celebirty/cropped/hockey player sreejesh - Google Search\n",
      "generating cropped images in the folder /home/gouri/Documents/jupiter/git/ML models/IMAGE_RECOGNITION/sports celebirty/cropped/hockey player sreejesh - Google Search\n",
      "generating cropped images in the folder /home/gouri/Documents/jupiter/git/ML models/IMAGE_RECOGNITION/sports celebirty/cropped/hockey player sreejesh - Google Search\n",
      "generating cropped images in the folder /home/gouri/Documents/jupiter/git/ML models/IMAGE_RECOGNITION/sports celebirty/cropped/hockey player sreejesh - Google Search\n",
      "generating cropped images in the folder /home/gouri/Documents/jupiter/git/ML models/IMAGE_RECOGNITION/sports celebirty/cropped/hockey player sreejesh - Google Search\n",
      "generating cropped images in the folder /home/gouri/Documents/jupiter/git/ML models/IMAGE_RECOGNITION/sports celebirty/cropped/hockey player sreejesh - Google Search\n",
      "generating cropped images in the folder /home/gouri/Documents/jupiter/git/ML models/IMAGE_RECOGNITION/sports celebirty/cropped/hockey player sreejesh - Google Search\n",
      "generating cropped images in the folder /home/gouri/Documents/jupiter/git/ML models/IMAGE_RECOGNITION/sports celebirty/cropped/hockey player sreejesh - Google Search\n",
      "generating cropped images in the folder /home/gouri/Documents/jupiter/git/ML models/IMAGE_RECOGNITION/sports celebirty/cropped/hockey player sreejesh - Google Search\n"
     ]
    },
    {
     "name": "stderr",
     "output_type": "stream",
     "text": [
      "libpng warning: iCCP: known incorrect sRGB profile\n"
     ]
    },
    {
     "name": "stdout",
     "output_type": "stream",
     "text": [
      "generating cropped images in the folder /home/gouri/Documents/jupiter/git/ML models/IMAGE_RECOGNITION/sports celebirty/cropped/hockey player sreejesh - Google Search\n",
      "generating cropped images in the folder /home/gouri/Documents/jupiter/git/ML models/IMAGE_RECOGNITION/sports celebirty/cropped/hockey player sreejesh - Google Search\n",
      "generating cropped images in the folder /home/gouri/Documents/jupiter/git/ML models/IMAGE_RECOGNITION/sports celebirty/cropped/hockey player sreejesh - Google Search\n"
     ]
    }
   ],
   "source": [
    "cropped_image_dirs = []\n",
    "celebrity_file_name_dict = {}\n",
    "for img_dir in image_dir:\n",
    "    count=1\n",
    "    celebrity_name = img_dir.split('/')[-1]\n",
    "    celebrity_file_name_dict[celebrity_name]= []\n",
    "    for entry in os.scandir(img_dir):\n",
    "        roi_color = get_cropped_imag_if_2_eyes(entry.path)\n",
    "        if roi_color is not None:\n",
    "            cropped_folder = path_to_cropped_data + celebrity_name\n",
    "            if not os.path.exists(cropped_folder):\n",
    "                os.makedirs(cropped_folder)\n",
    "            cropped_image_dirs.append(cropped_folder)\n",
    "            print(\"generating cropped images in the folder\", cropped_folder)\n",
    "                \n",
    "            cropped_file_name = celebrity_name + str(count) + \".png\"\n",
    "            cropped_file_path = cropped_folder + '/' + cropped_file_name\n",
    "            \n",
    "            cv2.imwrite(cropped_file_path,roi_color)\n",
    "            celebrity_file_name_dict[celebrity_name].append(cropped_file_path)\n",
    "            count+=1\n",
    "            \n",
    "        "
   ]
  },
  {
   "cell_type": "code",
   "execution_count": 16,
   "id": "f0eed636",
   "metadata": {},
   "outputs": [
    {
     "data": {
      "text/plain": [
       "dict"
      ]
     },
     "execution_count": 16,
     "metadata": {},
     "output_type": "execute_result"
    }
   ],
   "source": [
    "type(celebrity_file_name_dict)"
   ]
  },
  {
   "cell_type": "code",
   "execution_count": 17,
   "id": "84fef7e9",
   "metadata": {},
   "outputs": [
    {
     "data": {
      "text/plain": [
       "'/home/gouri/Documents/jupiter/git/ML models/IMAGE_RECOGNITION/sports celebirty/cropped/hockey player sreejesh - Google Search'"
      ]
     },
     "execution_count": 17,
     "metadata": {},
     "output_type": "execute_result"
    }
   ],
   "source": [
    "cropped_folder"
   ]
  },
  {
   "cell_type": "code",
   "execution_count": 18,
   "id": "8d3eaf83",
   "metadata": {
    "scrolled": false
   },
   "outputs": [
    {
     "data": {
      "text/plain": [
       "['/home/gouri/Documents/jupiter/git/ML models/IMAGE_RECOGNITION/sports celebirty/cropped/suryakumar yadav images - Google Search',\n",
       " '/home/gouri/Documents/jupiter/git/ML models/IMAGE_RECOGNITION/sports celebirty/cropped/suryakumar yadav images - Google Search',\n",
       " '/home/gouri/Documents/jupiter/git/ML models/IMAGE_RECOGNITION/sports celebirty/cropped/suryakumar yadav images - Google Search',\n",
       " '/home/gouri/Documents/jupiter/git/ML models/IMAGE_RECOGNITION/sports celebirty/cropped/suryakumar yadav images - Google Search',\n",
       " '/home/gouri/Documents/jupiter/git/ML models/IMAGE_RECOGNITION/sports celebirty/cropped/suryakumar yadav images - Google Search',\n",
       " '/home/gouri/Documents/jupiter/git/ML models/IMAGE_RECOGNITION/sports celebirty/cropped/suryakumar yadav images - Google Search',\n",
       " '/home/gouri/Documents/jupiter/git/ML models/IMAGE_RECOGNITION/sports celebirty/cropped/suryakumar yadav images - Google Search',\n",
       " '/home/gouri/Documents/jupiter/git/ML models/IMAGE_RECOGNITION/sports celebirty/cropped/suryakumar yadav images - Google Search',\n",
       " '/home/gouri/Documents/jupiter/git/ML models/IMAGE_RECOGNITION/sports celebirty/cropped/suryakumar yadav images - Google Search',\n",
       " '/home/gouri/Documents/jupiter/git/ML models/IMAGE_RECOGNITION/sports celebirty/cropped/suryakumar yadav images - Google Search',\n",
       " '/home/gouri/Documents/jupiter/git/ML models/IMAGE_RECOGNITION/sports celebirty/cropped/suryakumar yadav images - Google Search',\n",
       " '/home/gouri/Documents/jupiter/git/ML models/IMAGE_RECOGNITION/sports celebirty/cropped/suryakumar yadav images - Google Search',\n",
       " '/home/gouri/Documents/jupiter/git/ML models/IMAGE_RECOGNITION/sports celebirty/cropped/suryakumar yadav images - Google Search',\n",
       " '/home/gouri/Documents/jupiter/git/ML models/IMAGE_RECOGNITION/sports celebirty/cropped/suryakumar yadav images - Google Search',\n",
       " '/home/gouri/Documents/jupiter/git/ML models/IMAGE_RECOGNITION/sports celebirty/cropped/suryakumar yadav images - Google Search',\n",
       " '/home/gouri/Documents/jupiter/git/ML models/IMAGE_RECOGNITION/sports celebirty/cropped/suryakumar yadav images - Google Search',\n",
       " '/home/gouri/Documents/jupiter/git/ML models/IMAGE_RECOGNITION/sports celebirty/cropped/suryakumar yadav images - Google Search',\n",
       " '/home/gouri/Documents/jupiter/git/ML models/IMAGE_RECOGNITION/sports celebirty/cropped/suryakumar yadav images - Google Search',\n",
       " '/home/gouri/Documents/jupiter/git/ML models/IMAGE_RECOGNITION/sports celebirty/cropped/suryakumar yadav images - Google Search',\n",
       " '/home/gouri/Documents/jupiter/git/ML models/IMAGE_RECOGNITION/sports celebirty/cropped/suryakumar yadav images - Google Search',\n",
       " '/home/gouri/Documents/jupiter/git/ML models/IMAGE_RECOGNITION/sports celebirty/cropped/suryakumar yadav images - Google Search',\n",
       " '/home/gouri/Documents/jupiter/git/ML models/IMAGE_RECOGNITION/sports celebirty/cropped/suryakumar yadav images - Google Search',\n",
       " '/home/gouri/Documents/jupiter/git/ML models/IMAGE_RECOGNITION/sports celebirty/cropped/suryakumar yadav images - Google Search',\n",
       " '/home/gouri/Documents/jupiter/git/ML models/IMAGE_RECOGNITION/sports celebirty/cropped/suryakumar yadav images - Google Search',\n",
       " '/home/gouri/Documents/jupiter/git/ML models/IMAGE_RECOGNITION/sports celebirty/cropped/suryakumar yadav images - Google Search',\n",
       " '/home/gouri/Documents/jupiter/git/ML models/IMAGE_RECOGNITION/sports celebirty/cropped/suryakumar yadav images - Google Search',\n",
       " '/home/gouri/Documents/jupiter/git/ML models/IMAGE_RECOGNITION/sports celebirty/cropped/suryakumar yadav images - Google Search',\n",
       " '/home/gouri/Documents/jupiter/git/ML models/IMAGE_RECOGNITION/sports celebirty/cropped/suryakumar yadav images - Google Search',\n",
       " '/home/gouri/Documents/jupiter/git/ML models/IMAGE_RECOGNITION/sports celebirty/cropped/suryakumar yadav images - Google Search',\n",
       " '/home/gouri/Documents/jupiter/git/ML models/IMAGE_RECOGNITION/sports celebirty/cropped/suryakumar yadav images - Google Search',\n",
       " '/home/gouri/Documents/jupiter/git/ML models/IMAGE_RECOGNITION/sports celebirty/cropped/suryakumar yadav images - Google Search',\n",
       " '/home/gouri/Documents/jupiter/git/ML models/IMAGE_RECOGNITION/sports celebirty/cropped/suryakumar yadav images - Google Search',\n",
       " '/home/gouri/Documents/jupiter/git/ML models/IMAGE_RECOGNITION/sports celebirty/cropped/suryakumar yadav images - Google Search',\n",
       " '/home/gouri/Documents/jupiter/git/ML models/IMAGE_RECOGNITION/sports celebirty/cropped/suryakumar yadav images - Google Search',\n",
       " '/home/gouri/Documents/jupiter/git/ML models/IMAGE_RECOGNITION/sports celebirty/cropped/suryakumar yadav images - Google Search',\n",
       " '/home/gouri/Documents/jupiter/git/ML models/IMAGE_RECOGNITION/sports celebirty/cropped/suryakumar yadav images - Google Search',\n",
       " '/home/gouri/Documents/jupiter/git/ML models/IMAGE_RECOGNITION/sports celebirty/cropped/sunil chhetri - Google Search',\n",
       " '/home/gouri/Documents/jupiter/git/ML models/IMAGE_RECOGNITION/sports celebirty/cropped/sunil chhetri - Google Search',\n",
       " '/home/gouri/Documents/jupiter/git/ML models/IMAGE_RECOGNITION/sports celebirty/cropped/sunil chhetri - Google Search',\n",
       " '/home/gouri/Documents/jupiter/git/ML models/IMAGE_RECOGNITION/sports celebirty/cropped/sunil chhetri - Google Search',\n",
       " '/home/gouri/Documents/jupiter/git/ML models/IMAGE_RECOGNITION/sports celebirty/cropped/sunil chhetri - Google Search',\n",
       " '/home/gouri/Documents/jupiter/git/ML models/IMAGE_RECOGNITION/sports celebirty/cropped/sunil chhetri - Google Search',\n",
       " '/home/gouri/Documents/jupiter/git/ML models/IMAGE_RECOGNITION/sports celebirty/cropped/sunil chhetri - Google Search',\n",
       " '/home/gouri/Documents/jupiter/git/ML models/IMAGE_RECOGNITION/sports celebirty/cropped/sunil chhetri - Google Search',\n",
       " '/home/gouri/Documents/jupiter/git/ML models/IMAGE_RECOGNITION/sports celebirty/cropped/sunil chhetri - Google Search',\n",
       " '/home/gouri/Documents/jupiter/git/ML models/IMAGE_RECOGNITION/sports celebirty/cropped/sunil chhetri - Google Search',\n",
       " '/home/gouri/Documents/jupiter/git/ML models/IMAGE_RECOGNITION/sports celebirty/cropped/sunil chhetri - Google Search',\n",
       " '/home/gouri/Documents/jupiter/git/ML models/IMAGE_RECOGNITION/sports celebirty/cropped/sunil chhetri - Google Search',\n",
       " '/home/gouri/Documents/jupiter/git/ML models/IMAGE_RECOGNITION/sports celebirty/cropped/sunil chhetri - Google Search',\n",
       " '/home/gouri/Documents/jupiter/git/ML models/IMAGE_RECOGNITION/sports celebirty/cropped/sunil chhetri - Google Search',\n",
       " '/home/gouri/Documents/jupiter/git/ML models/IMAGE_RECOGNITION/sports celebirty/cropped/sunil chhetri - Google Search',\n",
       " '/home/gouri/Documents/jupiter/git/ML models/IMAGE_RECOGNITION/sports celebirty/cropped/sunil chhetri - Google Search',\n",
       " '/home/gouri/Documents/jupiter/git/ML models/IMAGE_RECOGNITION/sports celebirty/cropped/sunil chhetri - Google Search',\n",
       " '/home/gouri/Documents/jupiter/git/ML models/IMAGE_RECOGNITION/sports celebirty/cropped/sunil chhetri - Google Search',\n",
       " '/home/gouri/Documents/jupiter/git/ML models/IMAGE_RECOGNITION/sports celebirty/cropped/sunil chhetri - Google Search',\n",
       " '/home/gouri/Documents/jupiter/git/ML models/IMAGE_RECOGNITION/sports celebirty/cropped/sunil chhetri - Google Search',\n",
       " '/home/gouri/Documents/jupiter/git/ML models/IMAGE_RECOGNITION/sports celebirty/cropped/sunil chhetri - Google Search',\n",
       " '/home/gouri/Documents/jupiter/git/ML models/IMAGE_RECOGNITION/sports celebirty/cropped/sunil chhetri - Google Search',\n",
       " '/home/gouri/Documents/jupiter/git/ML models/IMAGE_RECOGNITION/sports celebirty/cropped/sunil chhetri - Google Search',\n",
       " '/home/gouri/Documents/jupiter/git/ML models/IMAGE_RECOGNITION/sports celebirty/cropped/sunil chhetri - Google Search',\n",
       " '/home/gouri/Documents/jupiter/git/ML models/IMAGE_RECOGNITION/sports celebirty/cropped/sunil chhetri - Google Search',\n",
       " '/home/gouri/Documents/jupiter/git/ML models/IMAGE_RECOGNITION/sports celebirty/cropped/sunil chhetri - Google Search',\n",
       " '/home/gouri/Documents/jupiter/git/ML models/IMAGE_RECOGNITION/sports celebirty/cropped/sunil chhetri - Google Search',\n",
       " '/home/gouri/Documents/jupiter/git/ML models/IMAGE_RECOGNITION/sports celebirty/cropped/sunil chhetri - Google Search',\n",
       " '/home/gouri/Documents/jupiter/git/ML models/IMAGE_RECOGNITION/sports celebirty/cropped/sunil chhetri - Google Search',\n",
       " '/home/gouri/Documents/jupiter/git/ML models/IMAGE_RECOGNITION/sports celebirty/cropped/sunil chhetri - Google Search',\n",
       " '/home/gouri/Documents/jupiter/git/ML models/IMAGE_RECOGNITION/sports celebirty/cropped/sunil chhetri - Google Search',\n",
       " '/home/gouri/Documents/jupiter/git/ML models/IMAGE_RECOGNITION/sports celebirty/cropped/sunil chhetri - Google Search',\n",
       " '/home/gouri/Documents/jupiter/git/ML models/IMAGE_RECOGNITION/sports celebirty/cropped/sunil chhetri - Google Search',\n",
       " '/home/gouri/Documents/jupiter/git/ML models/IMAGE_RECOGNITION/sports celebirty/cropped/sunil chhetri - Google Search',\n",
       " '/home/gouri/Documents/jupiter/git/ML models/IMAGE_RECOGNITION/sports celebirty/cropped/sunil chhetri - Google Search',\n",
       " '/home/gouri/Documents/jupiter/git/ML models/IMAGE_RECOGNITION/sports celebirty/cropped/sunil chhetri - Google Search',\n",
       " '/home/gouri/Documents/jupiter/git/ML models/IMAGE_RECOGNITION/sports celebirty/cropped/sunil chhetri - Google Search',\n",
       " '/home/gouri/Documents/jupiter/git/ML models/IMAGE_RECOGNITION/sports celebirty/cropped/sunil chhetri - Google Search',\n",
       " '/home/gouri/Documents/jupiter/git/ML models/IMAGE_RECOGNITION/sports celebirty/cropped/sunil chhetri - Google Search',\n",
       " '/home/gouri/Documents/jupiter/git/ML models/IMAGE_RECOGNITION/sports celebirty/cropped/sunil chhetri - Google Search',\n",
       " '/home/gouri/Documents/jupiter/git/ML models/IMAGE_RECOGNITION/sports celebirty/cropped/sunil chhetri - Google Search',\n",
       " '/home/gouri/Documents/jupiter/git/ML models/IMAGE_RECOGNITION/sports celebirty/cropped/batmindon player srikanth - Google Search',\n",
       " '/home/gouri/Documents/jupiter/git/ML models/IMAGE_RECOGNITION/sports celebirty/cropped/batmindon player srikanth - Google Search',\n",
       " '/home/gouri/Documents/jupiter/git/ML models/IMAGE_RECOGNITION/sports celebirty/cropped/batmindon player srikanth - Google Search',\n",
       " '/home/gouri/Documents/jupiter/git/ML models/IMAGE_RECOGNITION/sports celebirty/cropped/batmindon player srikanth - Google Search',\n",
       " '/home/gouri/Documents/jupiter/git/ML models/IMAGE_RECOGNITION/sports celebirty/cropped/batmindon player srikanth - Google Search',\n",
       " '/home/gouri/Documents/jupiter/git/ML models/IMAGE_RECOGNITION/sports celebirty/cropped/batmindon player srikanth - Google Search',\n",
       " '/home/gouri/Documents/jupiter/git/ML models/IMAGE_RECOGNITION/sports celebirty/cropped/batmindon player srikanth - Google Search',\n",
       " '/home/gouri/Documents/jupiter/git/ML models/IMAGE_RECOGNITION/sports celebirty/cropped/batmindon player srikanth - Google Search',\n",
       " '/home/gouri/Documents/jupiter/git/ML models/IMAGE_RECOGNITION/sports celebirty/cropped/batmindon player srikanth - Google Search',\n",
       " '/home/gouri/Documents/jupiter/git/ML models/IMAGE_RECOGNITION/sports celebirty/cropped/batmindon player srikanth - Google Search',\n",
       " '/home/gouri/Documents/jupiter/git/ML models/IMAGE_RECOGNITION/sports celebirty/cropped/batmindon player srikanth - Google Search',\n",
       " '/home/gouri/Documents/jupiter/git/ML models/IMAGE_RECOGNITION/sports celebirty/cropped/batmindon player srikanth - Google Search',\n",
       " '/home/gouri/Documents/jupiter/git/ML models/IMAGE_RECOGNITION/sports celebirty/cropped/batmindon player srikanth - Google Search',\n",
       " '/home/gouri/Documents/jupiter/git/ML models/IMAGE_RECOGNITION/sports celebirty/cropped/batmindon player srikanth - Google Search',\n",
       " '/home/gouri/Documents/jupiter/git/ML models/IMAGE_RECOGNITION/sports celebirty/cropped/batmindon player srikanth - Google Search',\n",
       " '/home/gouri/Documents/jupiter/git/ML models/IMAGE_RECOGNITION/sports celebirty/cropped/batmindon player srikanth - Google Search',\n",
       " '/home/gouri/Documents/jupiter/git/ML models/IMAGE_RECOGNITION/sports celebirty/cropped/batmindon player srikanth - Google Search',\n",
       " '/home/gouri/Documents/jupiter/git/ML models/IMAGE_RECOGNITION/sports celebirty/cropped/batmindon player srikanth - Google Search',\n",
       " '/home/gouri/Documents/jupiter/git/ML models/IMAGE_RECOGNITION/sports celebirty/cropped/batmindon player srikanth - Google Search',\n",
       " '/home/gouri/Documents/jupiter/git/ML models/IMAGE_RECOGNITION/sports celebirty/cropped/batmindon player srikanth - Google Search',\n",
       " '/home/gouri/Documents/jupiter/git/ML models/IMAGE_RECOGNITION/sports celebirty/cropped/batmindon player srikanth - Google Search',\n",
       " '/home/gouri/Documents/jupiter/git/ML models/IMAGE_RECOGNITION/sports celebirty/cropped/batmindon player srikanth - Google Search',\n",
       " '/home/gouri/Documents/jupiter/git/ML models/IMAGE_RECOGNITION/sports celebirty/cropped/batmindon player srikanth - Google Search',\n",
       " '/home/gouri/Documents/jupiter/git/ML models/IMAGE_RECOGNITION/sports celebirty/cropped/batmindon player srikanth - Google Search',\n",
       " '/home/gouri/Documents/jupiter/git/ML models/IMAGE_RECOGNITION/sports celebirty/cropped/batmindon player srikanth - Google Search',\n",
       " '/home/gouri/Documents/jupiter/git/ML models/IMAGE_RECOGNITION/sports celebirty/cropped/batmindon player srikanth - Google Search',\n",
       " '/home/gouri/Documents/jupiter/git/ML models/IMAGE_RECOGNITION/sports celebirty/cropped/pv sindhu - Google Search',\n",
       " '/home/gouri/Documents/jupiter/git/ML models/IMAGE_RECOGNITION/sports celebirty/cropped/pv sindhu - Google Search',\n",
       " '/home/gouri/Documents/jupiter/git/ML models/IMAGE_RECOGNITION/sports celebirty/cropped/pv sindhu - Google Search',\n",
       " '/home/gouri/Documents/jupiter/git/ML models/IMAGE_RECOGNITION/sports celebirty/cropped/pv sindhu - Google Search',\n",
       " '/home/gouri/Documents/jupiter/git/ML models/IMAGE_RECOGNITION/sports celebirty/cropped/pv sindhu - Google Search',\n",
       " '/home/gouri/Documents/jupiter/git/ML models/IMAGE_RECOGNITION/sports celebirty/cropped/pv sindhu - Google Search',\n",
       " '/home/gouri/Documents/jupiter/git/ML models/IMAGE_RECOGNITION/sports celebirty/cropped/pv sindhu - Google Search',\n",
       " '/home/gouri/Documents/jupiter/git/ML models/IMAGE_RECOGNITION/sports celebirty/cropped/pv sindhu - Google Search',\n",
       " '/home/gouri/Documents/jupiter/git/ML models/IMAGE_RECOGNITION/sports celebirty/cropped/pv sindhu - Google Search',\n",
       " '/home/gouri/Documents/jupiter/git/ML models/IMAGE_RECOGNITION/sports celebirty/cropped/pv sindhu - Google Search',\n",
       " '/home/gouri/Documents/jupiter/git/ML models/IMAGE_RECOGNITION/sports celebirty/cropped/pv sindhu - Google Search',\n",
       " '/home/gouri/Documents/jupiter/git/ML models/IMAGE_RECOGNITION/sports celebirty/cropped/pv sindhu - Google Search',\n",
       " '/home/gouri/Documents/jupiter/git/ML models/IMAGE_RECOGNITION/sports celebirty/cropped/pv sindhu - Google Search',\n",
       " '/home/gouri/Documents/jupiter/git/ML models/IMAGE_RECOGNITION/sports celebirty/cropped/pv sindhu - Google Search',\n",
       " '/home/gouri/Documents/jupiter/git/ML models/IMAGE_RECOGNITION/sports celebirty/cropped/pv sindhu - Google Search',\n",
       " '/home/gouri/Documents/jupiter/git/ML models/IMAGE_RECOGNITION/sports celebirty/cropped/pv sindhu - Google Search',\n",
       " '/home/gouri/Documents/jupiter/git/ML models/IMAGE_RECOGNITION/sports celebirty/cropped/pv sindhu - Google Search',\n",
       " '/home/gouri/Documents/jupiter/git/ML models/IMAGE_RECOGNITION/sports celebirty/cropped/pv sindhu - Google Search',\n",
       " '/home/gouri/Documents/jupiter/git/ML models/IMAGE_RECOGNITION/sports celebirty/cropped/pv sindhu - Google Search',\n",
       " '/home/gouri/Documents/jupiter/git/ML models/IMAGE_RECOGNITION/sports celebirty/cropped/pv sindhu - Google Search',\n",
       " '/home/gouri/Documents/jupiter/git/ML models/IMAGE_RECOGNITION/sports celebirty/cropped/pv sindhu - Google Search',\n",
       " '/home/gouri/Documents/jupiter/git/ML models/IMAGE_RECOGNITION/sports celebirty/cropped/pv sindhu - Google Search',\n",
       " '/home/gouri/Documents/jupiter/git/ML models/IMAGE_RECOGNITION/sports celebirty/cropped/pv sindhu - Google Search',\n",
       " '/home/gouri/Documents/jupiter/git/ML models/IMAGE_RECOGNITION/sports celebirty/cropped/pv sindhu - Google Search',\n",
       " '/home/gouri/Documents/jupiter/git/ML models/IMAGE_RECOGNITION/sports celebirty/cropped/pv sindhu - Google Search',\n",
       " '/home/gouri/Documents/jupiter/git/ML models/IMAGE_RECOGNITION/sports celebirty/cropped/pv sindhu - Google Search',\n",
       " '/home/gouri/Documents/jupiter/git/ML models/IMAGE_RECOGNITION/sports celebirty/cropped/pv sindhu - Google Search',\n",
       " '/home/gouri/Documents/jupiter/git/ML models/IMAGE_RECOGNITION/sports celebirty/cropped/pv sindhu - Google Search',\n",
       " '/home/gouri/Documents/jupiter/git/ML models/IMAGE_RECOGNITION/sports celebirty/cropped/pv sindhu - Google Search',\n",
       " '/home/gouri/Documents/jupiter/git/ML models/IMAGE_RECOGNITION/sports celebirty/cropped/pv sindhu - Google Search',\n",
       " '/home/gouri/Documents/jupiter/git/ML models/IMAGE_RECOGNITION/sports celebirty/cropped/pv sindhu - Google Search',\n",
       " '/home/gouri/Documents/jupiter/git/ML models/IMAGE_RECOGNITION/sports celebirty/cropped/hockey player sreejesh - Google Search',\n",
       " '/home/gouri/Documents/jupiter/git/ML models/IMAGE_RECOGNITION/sports celebirty/cropped/hockey player sreejesh - Google Search',\n",
       " '/home/gouri/Documents/jupiter/git/ML models/IMAGE_RECOGNITION/sports celebirty/cropped/hockey player sreejesh - Google Search',\n",
       " '/home/gouri/Documents/jupiter/git/ML models/IMAGE_RECOGNITION/sports celebirty/cropped/hockey player sreejesh - Google Search',\n",
       " '/home/gouri/Documents/jupiter/git/ML models/IMAGE_RECOGNITION/sports celebirty/cropped/hockey player sreejesh - Google Search',\n",
       " '/home/gouri/Documents/jupiter/git/ML models/IMAGE_RECOGNITION/sports celebirty/cropped/hockey player sreejesh - Google Search',\n",
       " '/home/gouri/Documents/jupiter/git/ML models/IMAGE_RECOGNITION/sports celebirty/cropped/hockey player sreejesh - Google Search',\n",
       " '/home/gouri/Documents/jupiter/git/ML models/IMAGE_RECOGNITION/sports celebirty/cropped/hockey player sreejesh - Google Search',\n",
       " '/home/gouri/Documents/jupiter/git/ML models/IMAGE_RECOGNITION/sports celebirty/cropped/hockey player sreejesh - Google Search',\n",
       " '/home/gouri/Documents/jupiter/git/ML models/IMAGE_RECOGNITION/sports celebirty/cropped/hockey player sreejesh - Google Search',\n",
       " '/home/gouri/Documents/jupiter/git/ML models/IMAGE_RECOGNITION/sports celebirty/cropped/hockey player sreejesh - Google Search',\n",
       " '/home/gouri/Documents/jupiter/git/ML models/IMAGE_RECOGNITION/sports celebirty/cropped/hockey player sreejesh - Google Search',\n",
       " '/home/gouri/Documents/jupiter/git/ML models/IMAGE_RECOGNITION/sports celebirty/cropped/hockey player sreejesh - Google Search',\n",
       " '/home/gouri/Documents/jupiter/git/ML models/IMAGE_RECOGNITION/sports celebirty/cropped/hockey player sreejesh - Google Search',\n",
       " '/home/gouri/Documents/jupiter/git/ML models/IMAGE_RECOGNITION/sports celebirty/cropped/hockey player sreejesh - Google Search',\n",
       " '/home/gouri/Documents/jupiter/git/ML models/IMAGE_RECOGNITION/sports celebirty/cropped/hockey player sreejesh - Google Search',\n",
       " '/home/gouri/Documents/jupiter/git/ML models/IMAGE_RECOGNITION/sports celebirty/cropped/hockey player sreejesh - Google Search',\n",
       " '/home/gouri/Documents/jupiter/git/ML models/IMAGE_RECOGNITION/sports celebirty/cropped/hockey player sreejesh - Google Search',\n",
       " '/home/gouri/Documents/jupiter/git/ML models/IMAGE_RECOGNITION/sports celebirty/cropped/hockey player sreejesh - Google Search',\n",
       " '/home/gouri/Documents/jupiter/git/ML models/IMAGE_RECOGNITION/sports celebirty/cropped/hockey player sreejesh - Google Search',\n",
       " '/home/gouri/Documents/jupiter/git/ML models/IMAGE_RECOGNITION/sports celebirty/cropped/hockey player sreejesh - Google Search',\n",
       " '/home/gouri/Documents/jupiter/git/ML models/IMAGE_RECOGNITION/sports celebirty/cropped/hockey player sreejesh - Google Search',\n",
       " '/home/gouri/Documents/jupiter/git/ML models/IMAGE_RECOGNITION/sports celebirty/cropped/hockey player sreejesh - Google Search',\n",
       " '/home/gouri/Documents/jupiter/git/ML models/IMAGE_RECOGNITION/sports celebirty/cropped/hockey player sreejesh - Google Search',\n",
       " '/home/gouri/Documents/jupiter/git/ML models/IMAGE_RECOGNITION/sports celebirty/cropped/hockey player sreejesh - Google Search',\n",
       " '/home/gouri/Documents/jupiter/git/ML models/IMAGE_RECOGNITION/sports celebirty/cropped/hockey player sreejesh - Google Search']"
      ]
     },
     "execution_count": 18,
     "metadata": {},
     "output_type": "execute_result"
    }
   ],
   "source": [
    "cropped_image_dirs"
   ]
  },
  {
   "cell_type": "markdown",
   "id": "2de779fe",
   "metadata": {},
   "source": [
    "##### MANUALLY REMOVING THE UNWANTED PHOTOS FROM CROPPED FOLDER"
   ]
  },
  {
   "cell_type": "code",
   "execution_count": 19,
   "id": "8f0dfa40",
   "metadata": {},
   "outputs": [],
   "source": [
    "#CONVERTING TO DICTIONARY FORMAT"
   ]
  },
  {
   "cell_type": "code",
   "execution_count": 20,
   "id": "a6e0175b",
   "metadata": {},
   "outputs": [
    {
     "data": {
      "text/plain": [
       "{'suryakumar yadav images - Google Search': ['/home/gouri/Documents/jupiter/git/ML models/IMAGE_RECOGNITION/sports celebirty/cropped/suryakumar yadav images - Google Search/suryakumar yadav images - Google Search14.png',\n",
       "  '/home/gouri/Documents/jupiter/git/ML models/IMAGE_RECOGNITION/sports celebirty/cropped/suryakumar yadav images - Google Search/suryakumar yadav images - Google Search11.png',\n",
       "  '/home/gouri/Documents/jupiter/git/ML models/IMAGE_RECOGNITION/sports celebirty/cropped/suryakumar yadav images - Google Search/suryakumar yadav images - Google Search10.png',\n",
       "  '/home/gouri/Documents/jupiter/git/ML models/IMAGE_RECOGNITION/sports celebirty/cropped/suryakumar yadav images - Google Search/suryakumar yadav images - Google Search17.png',\n",
       "  '/home/gouri/Documents/jupiter/git/ML models/IMAGE_RECOGNITION/sports celebirty/cropped/suryakumar yadav images - Google Search/suryakumar yadav images - Google Search36.png',\n",
       "  '/home/gouri/Documents/jupiter/git/ML models/IMAGE_RECOGNITION/sports celebirty/cropped/suryakumar yadav images - Google Search/suryakumar yadav images - Google Search19.png',\n",
       "  '/home/gouri/Documents/jupiter/git/ML models/IMAGE_RECOGNITION/sports celebirty/cropped/suryakumar yadav images - Google Search/suryakumar yadav images - Google Search5.png',\n",
       "  '/home/gouri/Documents/jupiter/git/ML models/IMAGE_RECOGNITION/sports celebirty/cropped/suryakumar yadav images - Google Search/suryakumar yadav images - Google Search22.png',\n",
       "  '/home/gouri/Documents/jupiter/git/ML models/IMAGE_RECOGNITION/sports celebirty/cropped/suryakumar yadav images - Google Search/suryakumar yadav images - Google Search13.png',\n",
       "  '/home/gouri/Documents/jupiter/git/ML models/IMAGE_RECOGNITION/sports celebirty/cropped/suryakumar yadav images - Google Search/suryakumar yadav images - Google Search21.png',\n",
       "  '/home/gouri/Documents/jupiter/git/ML models/IMAGE_RECOGNITION/sports celebirty/cropped/suryakumar yadav images - Google Search/suryakumar yadav images - Google Search24.png',\n",
       "  '/home/gouri/Documents/jupiter/git/ML models/IMAGE_RECOGNITION/sports celebirty/cropped/suryakumar yadav images - Google Search/suryakumar yadav images - Google Search25.png',\n",
       "  '/home/gouri/Documents/jupiter/git/ML models/IMAGE_RECOGNITION/sports celebirty/cropped/suryakumar yadav images - Google Search/suryakumar yadav images - Google Search16.png',\n",
       "  '/home/gouri/Documents/jupiter/git/ML models/IMAGE_RECOGNITION/sports celebirty/cropped/suryakumar yadav images - Google Search/suryakumar yadav images - Google Search3.png',\n",
       "  '/home/gouri/Documents/jupiter/git/ML models/IMAGE_RECOGNITION/sports celebirty/cropped/suryakumar yadav images - Google Search/suryakumar yadav images - Google Search28.png',\n",
       "  '/home/gouri/Documents/jupiter/git/ML models/IMAGE_RECOGNITION/sports celebirty/cropped/suryakumar yadav images - Google Search/suryakumar yadav images - Google Search32.png',\n",
       "  '/home/gouri/Documents/jupiter/git/ML models/IMAGE_RECOGNITION/sports celebirty/cropped/suryakumar yadav images - Google Search/suryakumar yadav images - Google Search27.png',\n",
       "  '/home/gouri/Documents/jupiter/git/ML models/IMAGE_RECOGNITION/sports celebirty/cropped/suryakumar yadav images - Google Search/suryakumar yadav images - Google Search20.png',\n",
       "  '/home/gouri/Documents/jupiter/git/ML models/IMAGE_RECOGNITION/sports celebirty/cropped/suryakumar yadav images - Google Search/suryakumar yadav images - Google Search26.png',\n",
       "  '/home/gouri/Documents/jupiter/git/ML models/IMAGE_RECOGNITION/sports celebirty/cropped/suryakumar yadav images - Google Search/suryakumar yadav images - Google Search18.png',\n",
       "  '/home/gouri/Documents/jupiter/git/ML models/IMAGE_RECOGNITION/sports celebirty/cropped/suryakumar yadav images - Google Search/suryakumar yadav images - Google Search6.png',\n",
       "  '/home/gouri/Documents/jupiter/git/ML models/IMAGE_RECOGNITION/sports celebirty/cropped/suryakumar yadav images - Google Search/suryakumar yadav images - Google Search29.png',\n",
       "  '/home/gouri/Documents/jupiter/git/ML models/IMAGE_RECOGNITION/sports celebirty/cropped/suryakumar yadav images - Google Search/suryakumar yadav images - Google Search23.png',\n",
       "  '/home/gouri/Documents/jupiter/git/ML models/IMAGE_RECOGNITION/sports celebirty/cropped/suryakumar yadav images - Google Search/suryakumar yadav images - Google Search30.png',\n",
       "  '/home/gouri/Documents/jupiter/git/ML models/IMAGE_RECOGNITION/sports celebirty/cropped/suryakumar yadav images - Google Search/suryakumar yadav images - Google Search34.png',\n",
       "  '/home/gouri/Documents/jupiter/git/ML models/IMAGE_RECOGNITION/sports celebirty/cropped/suryakumar yadav images - Google Search/suryakumar yadav images - Google Search15.png',\n",
       "  '/home/gouri/Documents/jupiter/git/ML models/IMAGE_RECOGNITION/sports celebirty/cropped/suryakumar yadav images - Google Search/suryakumar yadav images - Google Search8.png',\n",
       "  '/home/gouri/Documents/jupiter/git/ML models/IMAGE_RECOGNITION/sports celebirty/cropped/suryakumar yadav images - Google Search/suryakumar yadav images - Google Search12.png',\n",
       "  '/home/gouri/Documents/jupiter/git/ML models/IMAGE_RECOGNITION/sports celebirty/cropped/suryakumar yadav images - Google Search/suryakumar yadav images - Google Search7.png',\n",
       "  '/home/gouri/Documents/jupiter/git/ML models/IMAGE_RECOGNITION/sports celebirty/cropped/suryakumar yadav images - Google Search/suryakumar yadav images - Google Search35.png',\n",
       "  '/home/gouri/Documents/jupiter/git/ML models/IMAGE_RECOGNITION/sports celebirty/cropped/suryakumar yadav images - Google Search/suryakumar yadav images - Google Search2.png',\n",
       "  '/home/gouri/Documents/jupiter/git/ML models/IMAGE_RECOGNITION/sports celebirty/cropped/suryakumar yadav images - Google Search/suryakumar yadav images - Google Search4.png',\n",
       "  '/home/gouri/Documents/jupiter/git/ML models/IMAGE_RECOGNITION/sports celebirty/cropped/suryakumar yadav images - Google Search/suryakumar yadav images - Google Search9.png',\n",
       "  '/home/gouri/Documents/jupiter/git/ML models/IMAGE_RECOGNITION/sports celebirty/cropped/suryakumar yadav images - Google Search/suryakumar yadav images - Google Search31.png',\n",
       "  '/home/gouri/Documents/jupiter/git/ML models/IMAGE_RECOGNITION/sports celebirty/cropped/suryakumar yadav images - Google Search/suryakumar yadav images - Google Search1.png',\n",
       "  '/home/gouri/Documents/jupiter/git/ML models/IMAGE_RECOGNITION/sports celebirty/cropped/suryakumar yadav images - Google Search/suryakumar yadav images - Google Search33.png'],\n",
       " 'sunil chhetri - Google Search': ['/home/gouri/Documents/jupiter/git/ML models/IMAGE_RECOGNITION/sports celebirty/cropped/sunil chhetri - Google Search/sunil chhetri - Google Search35.png',\n",
       "  '/home/gouri/Documents/jupiter/git/ML models/IMAGE_RECOGNITION/sports celebirty/cropped/sunil chhetri - Google Search/sunil chhetri - Google Search23.png',\n",
       "  '/home/gouri/Documents/jupiter/git/ML models/IMAGE_RECOGNITION/sports celebirty/cropped/sunil chhetri - Google Search/sunil chhetri - Google Search33.png',\n",
       "  '/home/gouri/Documents/jupiter/git/ML models/IMAGE_RECOGNITION/sports celebirty/cropped/sunil chhetri - Google Search/sunil chhetri - Google Search34.png',\n",
       "  '/home/gouri/Documents/jupiter/git/ML models/IMAGE_RECOGNITION/sports celebirty/cropped/sunil chhetri - Google Search/sunil chhetri - Google Search5.png',\n",
       "  '/home/gouri/Documents/jupiter/git/ML models/IMAGE_RECOGNITION/sports celebirty/cropped/sunil chhetri - Google Search/sunil chhetri - Google Search11.png',\n",
       "  '/home/gouri/Documents/jupiter/git/ML models/IMAGE_RECOGNITION/sports celebirty/cropped/sunil chhetri - Google Search/sunil chhetri - Google Search28.png',\n",
       "  '/home/gouri/Documents/jupiter/git/ML models/IMAGE_RECOGNITION/sports celebirty/cropped/sunil chhetri - Google Search/sunil chhetri - Google Search21.png',\n",
       "  '/home/gouri/Documents/jupiter/git/ML models/IMAGE_RECOGNITION/sports celebirty/cropped/sunil chhetri - Google Search/sunil chhetri - Google Search30.png',\n",
       "  '/home/gouri/Documents/jupiter/git/ML models/IMAGE_RECOGNITION/sports celebirty/cropped/sunil chhetri - Google Search/sunil chhetri - Google Search22.png',\n",
       "  '/home/gouri/Documents/jupiter/git/ML models/IMAGE_RECOGNITION/sports celebirty/cropped/sunil chhetri - Google Search/sunil chhetri - Google Search20.png',\n",
       "  '/home/gouri/Documents/jupiter/git/ML models/IMAGE_RECOGNITION/sports celebirty/cropped/sunil chhetri - Google Search/sunil chhetri - Google Search15.png',\n",
       "  '/home/gouri/Documents/jupiter/git/ML models/IMAGE_RECOGNITION/sports celebirty/cropped/sunil chhetri - Google Search/sunil chhetri - Google Search36.png',\n",
       "  '/home/gouri/Documents/jupiter/git/ML models/IMAGE_RECOGNITION/sports celebirty/cropped/sunil chhetri - Google Search/sunil chhetri - Google Search39.png',\n",
       "  '/home/gouri/Documents/jupiter/git/ML models/IMAGE_RECOGNITION/sports celebirty/cropped/sunil chhetri - Google Search/sunil chhetri - Google Search17.png',\n",
       "  '/home/gouri/Documents/jupiter/git/ML models/IMAGE_RECOGNITION/sports celebirty/cropped/sunil chhetri - Google Search/sunil chhetri - Google Search1.png',\n",
       "  '/home/gouri/Documents/jupiter/git/ML models/IMAGE_RECOGNITION/sports celebirty/cropped/sunil chhetri - Google Search/sunil chhetri - Google Search31.png',\n",
       "  '/home/gouri/Documents/jupiter/git/ML models/IMAGE_RECOGNITION/sports celebirty/cropped/sunil chhetri - Google Search/sunil chhetri - Google Search12.png',\n",
       "  '/home/gouri/Documents/jupiter/git/ML models/IMAGE_RECOGNITION/sports celebirty/cropped/sunil chhetri - Google Search/sunil chhetri - Google Search13.png',\n",
       "  '/home/gouri/Documents/jupiter/git/ML models/IMAGE_RECOGNITION/sports celebirty/cropped/sunil chhetri - Google Search/sunil chhetri - Google Search18.png',\n",
       "  '/home/gouri/Documents/jupiter/git/ML models/IMAGE_RECOGNITION/sports celebirty/cropped/sunil chhetri - Google Search/sunil chhetri - Google Search40.png',\n",
       "  '/home/gouri/Documents/jupiter/git/ML models/IMAGE_RECOGNITION/sports celebirty/cropped/sunil chhetri - Google Search/sunil chhetri - Google Search8.png',\n",
       "  '/home/gouri/Documents/jupiter/git/ML models/IMAGE_RECOGNITION/sports celebirty/cropped/sunil chhetri - Google Search/sunil chhetri - Google Search16.png',\n",
       "  '/home/gouri/Documents/jupiter/git/ML models/IMAGE_RECOGNITION/sports celebirty/cropped/sunil chhetri - Google Search/sunil chhetri - Google Search6.png',\n",
       "  '/home/gouri/Documents/jupiter/git/ML models/IMAGE_RECOGNITION/sports celebirty/cropped/sunil chhetri - Google Search/sunil chhetri - Google Search26.png',\n",
       "  '/home/gouri/Documents/jupiter/git/ML models/IMAGE_RECOGNITION/sports celebirty/cropped/sunil chhetri - Google Search/sunil chhetri - Google Search2.png',\n",
       "  '/home/gouri/Documents/jupiter/git/ML models/IMAGE_RECOGNITION/sports celebirty/cropped/sunil chhetri - Google Search/sunil chhetri - Google Search38.png',\n",
       "  '/home/gouri/Documents/jupiter/git/ML models/IMAGE_RECOGNITION/sports celebirty/cropped/sunil chhetri - Google Search/sunil chhetri - Google Search25.png',\n",
       "  '/home/gouri/Documents/jupiter/git/ML models/IMAGE_RECOGNITION/sports celebirty/cropped/sunil chhetri - Google Search/sunil chhetri - Google Search32.png',\n",
       "  '/home/gouri/Documents/jupiter/git/ML models/IMAGE_RECOGNITION/sports celebirty/cropped/sunil chhetri - Google Search/sunil chhetri - Google Search4.png',\n",
       "  '/home/gouri/Documents/jupiter/git/ML models/IMAGE_RECOGNITION/sports celebirty/cropped/sunil chhetri - Google Search/sunil chhetri - Google Search10.png',\n",
       "  '/home/gouri/Documents/jupiter/git/ML models/IMAGE_RECOGNITION/sports celebirty/cropped/sunil chhetri - Google Search/sunil chhetri - Google Search27.png',\n",
       "  '/home/gouri/Documents/jupiter/git/ML models/IMAGE_RECOGNITION/sports celebirty/cropped/sunil chhetri - Google Search/sunil chhetri - Google Search9.png',\n",
       "  '/home/gouri/Documents/jupiter/git/ML models/IMAGE_RECOGNITION/sports celebirty/cropped/sunil chhetri - Google Search/sunil chhetri - Google Search19.png',\n",
       "  '/home/gouri/Documents/jupiter/git/ML models/IMAGE_RECOGNITION/sports celebirty/cropped/sunil chhetri - Google Search/sunil chhetri - Google Search7.png',\n",
       "  '/home/gouri/Documents/jupiter/git/ML models/IMAGE_RECOGNITION/sports celebirty/cropped/sunil chhetri - Google Search/sunil chhetri - Google Search29.png',\n",
       "  '/home/gouri/Documents/jupiter/git/ML models/IMAGE_RECOGNITION/sports celebirty/cropped/sunil chhetri - Google Search/sunil chhetri - Google Search37.png',\n",
       "  '/home/gouri/Documents/jupiter/git/ML models/IMAGE_RECOGNITION/sports celebirty/cropped/sunil chhetri - Google Search/sunil chhetri - Google Search24.png',\n",
       "  '/home/gouri/Documents/jupiter/git/ML models/IMAGE_RECOGNITION/sports celebirty/cropped/sunil chhetri - Google Search/sunil chhetri - Google Search3.png',\n",
       "  '/home/gouri/Documents/jupiter/git/ML models/IMAGE_RECOGNITION/sports celebirty/cropped/sunil chhetri - Google Search/sunil chhetri - Google Search41.png',\n",
       "  '/home/gouri/Documents/jupiter/git/ML models/IMAGE_RECOGNITION/sports celebirty/cropped/sunil chhetri - Google Search/sunil chhetri - Google Search14.png'],\n",
       " 'batmindon player srikanth - Google Search': ['/home/gouri/Documents/jupiter/git/ML models/IMAGE_RECOGNITION/sports celebirty/cropped/batmindon player srikanth - Google Search/batmindon player srikanth - Google Search19.png',\n",
       "  '/home/gouri/Documents/jupiter/git/ML models/IMAGE_RECOGNITION/sports celebirty/cropped/batmindon player srikanth - Google Search/batmindon player srikanth - Google Search9.png',\n",
       "  '/home/gouri/Documents/jupiter/git/ML models/IMAGE_RECOGNITION/sports celebirty/cropped/batmindon player srikanth - Google Search/batmindon player srikanth - Google Search25.png',\n",
       "  '/home/gouri/Documents/jupiter/git/ML models/IMAGE_RECOGNITION/sports celebirty/cropped/batmindon player srikanth - Google Search/batmindon player srikanth - Google Search14.png',\n",
       "  '/home/gouri/Documents/jupiter/git/ML models/IMAGE_RECOGNITION/sports celebirty/cropped/batmindon player srikanth - Google Search/batmindon player srikanth - Google Search21.png',\n",
       "  '/home/gouri/Documents/jupiter/git/ML models/IMAGE_RECOGNITION/sports celebirty/cropped/batmindon player srikanth - Google Search/batmindon player srikanth - Google Search13.png',\n",
       "  '/home/gouri/Documents/jupiter/git/ML models/IMAGE_RECOGNITION/sports celebirty/cropped/batmindon player srikanth - Google Search/batmindon player srikanth - Google Search20.png',\n",
       "  '/home/gouri/Documents/jupiter/git/ML models/IMAGE_RECOGNITION/sports celebirty/cropped/batmindon player srikanth - Google Search/batmindon player srikanth - Google Search6.png',\n",
       "  '/home/gouri/Documents/jupiter/git/ML models/IMAGE_RECOGNITION/sports celebirty/cropped/batmindon player srikanth - Google Search/batmindon player srikanth - Google Search7.png',\n",
       "  '/home/gouri/Documents/jupiter/git/ML models/IMAGE_RECOGNITION/sports celebirty/cropped/batmindon player srikanth - Google Search/batmindon player srikanth - Google Search18.png',\n",
       "  '/home/gouri/Documents/jupiter/git/ML models/IMAGE_RECOGNITION/sports celebirty/cropped/batmindon player srikanth - Google Search/batmindon player srikanth - Google Search8.png',\n",
       "  '/home/gouri/Documents/jupiter/git/ML models/IMAGE_RECOGNITION/sports celebirty/cropped/batmindon player srikanth - Google Search/batmindon player srikanth - Google Search23.png',\n",
       "  '/home/gouri/Documents/jupiter/git/ML models/IMAGE_RECOGNITION/sports celebirty/cropped/batmindon player srikanth - Google Search/batmindon player srikanth - Google Search3.png',\n",
       "  '/home/gouri/Documents/jupiter/git/ML models/IMAGE_RECOGNITION/sports celebirty/cropped/batmindon player srikanth - Google Search/batmindon player srikanth - Google Search24.png',\n",
       "  '/home/gouri/Documents/jupiter/git/ML models/IMAGE_RECOGNITION/sports celebirty/cropped/batmindon player srikanth - Google Search/batmindon player srikanth - Google Search12.png',\n",
       "  '/home/gouri/Documents/jupiter/git/ML models/IMAGE_RECOGNITION/sports celebirty/cropped/batmindon player srikanth - Google Search/batmindon player srikanth - Google Search17.png',\n",
       "  '/home/gouri/Documents/jupiter/git/ML models/IMAGE_RECOGNITION/sports celebirty/cropped/batmindon player srikanth - Google Search/batmindon player srikanth - Google Search1.png',\n",
       "  '/home/gouri/Documents/jupiter/git/ML models/IMAGE_RECOGNITION/sports celebirty/cropped/batmindon player srikanth - Google Search/batmindon player srikanth - Google Search11.png',\n",
       "  '/home/gouri/Documents/jupiter/git/ML models/IMAGE_RECOGNITION/sports celebirty/cropped/batmindon player srikanth - Google Search/batmindon player srikanth - Google Search4.png',\n",
       "  '/home/gouri/Documents/jupiter/git/ML models/IMAGE_RECOGNITION/sports celebirty/cropped/batmindon player srikanth - Google Search/batmindon player srikanth - Google Search22.png',\n",
       "  '/home/gouri/Documents/jupiter/git/ML models/IMAGE_RECOGNITION/sports celebirty/cropped/batmindon player srikanth - Google Search/batmindon player srikanth - Google Search26.png',\n",
       "  '/home/gouri/Documents/jupiter/git/ML models/IMAGE_RECOGNITION/sports celebirty/cropped/batmindon player srikanth - Google Search/batmindon player srikanth - Google Search2.png',\n",
       "  '/home/gouri/Documents/jupiter/git/ML models/IMAGE_RECOGNITION/sports celebirty/cropped/batmindon player srikanth - Google Search/batmindon player srikanth - Google Search5.png',\n",
       "  '/home/gouri/Documents/jupiter/git/ML models/IMAGE_RECOGNITION/sports celebirty/cropped/batmindon player srikanth - Google Search/batmindon player srikanth - Google Search16.png',\n",
       "  '/home/gouri/Documents/jupiter/git/ML models/IMAGE_RECOGNITION/sports celebirty/cropped/batmindon player srikanth - Google Search/batmindon player srikanth - Google Search15.png',\n",
       "  '/home/gouri/Documents/jupiter/git/ML models/IMAGE_RECOGNITION/sports celebirty/cropped/batmindon player srikanth - Google Search/batmindon player srikanth - Google Search10.png'],\n",
       " 'pv sindhu - Google Search': ['/home/gouri/Documents/jupiter/git/ML models/IMAGE_RECOGNITION/sports celebirty/cropped/pv sindhu - Google Search/pv sindhu - Google Search20.png',\n",
       "  '/home/gouri/Documents/jupiter/git/ML models/IMAGE_RECOGNITION/sports celebirty/cropped/pv sindhu - Google Search/pv sindhu - Google Search18.png',\n",
       "  '/home/gouri/Documents/jupiter/git/ML models/IMAGE_RECOGNITION/sports celebirty/cropped/pv sindhu - Google Search/pv sindhu - Google Search1.png',\n",
       "  '/home/gouri/Documents/jupiter/git/ML models/IMAGE_RECOGNITION/sports celebirty/cropped/pv sindhu - Google Search/pv sindhu - Google Search5.png',\n",
       "  '/home/gouri/Documents/jupiter/git/ML models/IMAGE_RECOGNITION/sports celebirty/cropped/pv sindhu - Google Search/pv sindhu - Google Search6.png',\n",
       "  '/home/gouri/Documents/jupiter/git/ML models/IMAGE_RECOGNITION/sports celebirty/cropped/pv sindhu - Google Search/pv sindhu - Google Search2.png',\n",
       "  '/home/gouri/Documents/jupiter/git/ML models/IMAGE_RECOGNITION/sports celebirty/cropped/pv sindhu - Google Search/pv sindhu - Google Search31.png',\n",
       "  '/home/gouri/Documents/jupiter/git/ML models/IMAGE_RECOGNITION/sports celebirty/cropped/pv sindhu - Google Search/pv sindhu - Google Search28.png',\n",
       "  '/home/gouri/Documents/jupiter/git/ML models/IMAGE_RECOGNITION/sports celebirty/cropped/pv sindhu - Google Search/pv sindhu - Google Search30.png',\n",
       "  '/home/gouri/Documents/jupiter/git/ML models/IMAGE_RECOGNITION/sports celebirty/cropped/pv sindhu - Google Search/pv sindhu - Google Search4.png',\n",
       "  '/home/gouri/Documents/jupiter/git/ML models/IMAGE_RECOGNITION/sports celebirty/cropped/pv sindhu - Google Search/pv sindhu - Google Search13.png',\n",
       "  '/home/gouri/Documents/jupiter/git/ML models/IMAGE_RECOGNITION/sports celebirty/cropped/pv sindhu - Google Search/pv sindhu - Google Search22.png',\n",
       "  '/home/gouri/Documents/jupiter/git/ML models/IMAGE_RECOGNITION/sports celebirty/cropped/pv sindhu - Google Search/pv sindhu - Google Search12.png',\n",
       "  '/home/gouri/Documents/jupiter/git/ML models/IMAGE_RECOGNITION/sports celebirty/cropped/pv sindhu - Google Search/pv sindhu - Google Search21.png',\n",
       "  '/home/gouri/Documents/jupiter/git/ML models/IMAGE_RECOGNITION/sports celebirty/cropped/pv sindhu - Google Search/pv sindhu - Google Search23.png',\n",
       "  '/home/gouri/Documents/jupiter/git/ML models/IMAGE_RECOGNITION/sports celebirty/cropped/pv sindhu - Google Search/pv sindhu - Google Search25.png',\n",
       "  '/home/gouri/Documents/jupiter/git/ML models/IMAGE_RECOGNITION/sports celebirty/cropped/pv sindhu - Google Search/pv sindhu - Google Search26.png',\n",
       "  '/home/gouri/Documents/jupiter/git/ML models/IMAGE_RECOGNITION/sports celebirty/cropped/pv sindhu - Google Search/pv sindhu - Google Search7.png',\n",
       "  '/home/gouri/Documents/jupiter/git/ML models/IMAGE_RECOGNITION/sports celebirty/cropped/pv sindhu - Google Search/pv sindhu - Google Search15.png',\n",
       "  '/home/gouri/Documents/jupiter/git/ML models/IMAGE_RECOGNITION/sports celebirty/cropped/pv sindhu - Google Search/pv sindhu - Google Search11.png',\n",
       "  '/home/gouri/Documents/jupiter/git/ML models/IMAGE_RECOGNITION/sports celebirty/cropped/pv sindhu - Google Search/pv sindhu - Google Search19.png',\n",
       "  '/home/gouri/Documents/jupiter/git/ML models/IMAGE_RECOGNITION/sports celebirty/cropped/pv sindhu - Google Search/pv sindhu - Google Search29.png',\n",
       "  '/home/gouri/Documents/jupiter/git/ML models/IMAGE_RECOGNITION/sports celebirty/cropped/pv sindhu - Google Search/pv sindhu - Google Search24.png',\n",
       "  '/home/gouri/Documents/jupiter/git/ML models/IMAGE_RECOGNITION/sports celebirty/cropped/pv sindhu - Google Search/pv sindhu - Google Search9.png',\n",
       "  '/home/gouri/Documents/jupiter/git/ML models/IMAGE_RECOGNITION/sports celebirty/cropped/pv sindhu - Google Search/pv sindhu - Google Search27.png',\n",
       "  '/home/gouri/Documents/jupiter/git/ML models/IMAGE_RECOGNITION/sports celebirty/cropped/pv sindhu - Google Search/pv sindhu - Google Search17.png',\n",
       "  '/home/gouri/Documents/jupiter/git/ML models/IMAGE_RECOGNITION/sports celebirty/cropped/pv sindhu - Google Search/pv sindhu - Google Search10.png',\n",
       "  '/home/gouri/Documents/jupiter/git/ML models/IMAGE_RECOGNITION/sports celebirty/cropped/pv sindhu - Google Search/pv sindhu - Google Search16.png',\n",
       "  '/home/gouri/Documents/jupiter/git/ML models/IMAGE_RECOGNITION/sports celebirty/cropped/pv sindhu - Google Search/pv sindhu - Google Search14.png',\n",
       "  '/home/gouri/Documents/jupiter/git/ML models/IMAGE_RECOGNITION/sports celebirty/cropped/pv sindhu - Google Search/pv sindhu - Google Search3.png',\n",
       "  '/home/gouri/Documents/jupiter/git/ML models/IMAGE_RECOGNITION/sports celebirty/cropped/pv sindhu - Google Search/pv sindhu - Google Search8.png'],\n",
       " 'hockey player sreejesh - Google Search': ['/home/gouri/Documents/jupiter/git/ML models/IMAGE_RECOGNITION/sports celebirty/cropped/hockey player sreejesh - Google Search/hockey player sreejesh - Google Search21.png',\n",
       "  '/home/gouri/Documents/jupiter/git/ML models/IMAGE_RECOGNITION/sports celebirty/cropped/hockey player sreejesh - Google Search/hockey player sreejesh - Google Search25.png',\n",
       "  '/home/gouri/Documents/jupiter/git/ML models/IMAGE_RECOGNITION/sports celebirty/cropped/hockey player sreejesh - Google Search/hockey player sreejesh - Google Search14.png',\n",
       "  '/home/gouri/Documents/jupiter/git/ML models/IMAGE_RECOGNITION/sports celebirty/cropped/hockey player sreejesh - Google Search/hockey player sreejesh - Google Search7.png',\n",
       "  '/home/gouri/Documents/jupiter/git/ML models/IMAGE_RECOGNITION/sports celebirty/cropped/hockey player sreejesh - Google Search/hockey player sreejesh - Google Search2.png',\n",
       "  '/home/gouri/Documents/jupiter/git/ML models/IMAGE_RECOGNITION/sports celebirty/cropped/hockey player sreejesh - Google Search/hockey player sreejesh - Google Search20.png',\n",
       "  '/home/gouri/Documents/jupiter/git/ML models/IMAGE_RECOGNITION/sports celebirty/cropped/hockey player sreejesh - Google Search/hockey player sreejesh - Google Search26.png',\n",
       "  '/home/gouri/Documents/jupiter/git/ML models/IMAGE_RECOGNITION/sports celebirty/cropped/hockey player sreejesh - Google Search/hockey player sreejesh - Google Search6.png',\n",
       "  '/home/gouri/Documents/jupiter/git/ML models/IMAGE_RECOGNITION/sports celebirty/cropped/hockey player sreejesh - Google Search/hockey player sreejesh - Google Search23.png',\n",
       "  '/home/gouri/Documents/jupiter/git/ML models/IMAGE_RECOGNITION/sports celebirty/cropped/hockey player sreejesh - Google Search/hockey player sreejesh - Google Search12.png',\n",
       "  '/home/gouri/Documents/jupiter/git/ML models/IMAGE_RECOGNITION/sports celebirty/cropped/hockey player sreejesh - Google Search/hockey player sreejesh - Google Search9.png',\n",
       "  '/home/gouri/Documents/jupiter/git/ML models/IMAGE_RECOGNITION/sports celebirty/cropped/hockey player sreejesh - Google Search/hockey player sreejesh - Google Search1.png',\n",
       "  '/home/gouri/Documents/jupiter/git/ML models/IMAGE_RECOGNITION/sports celebirty/cropped/hockey player sreejesh - Google Search/hockey player sreejesh - Google Search10.png',\n",
       "  '/home/gouri/Documents/jupiter/git/ML models/IMAGE_RECOGNITION/sports celebirty/cropped/hockey player sreejesh - Google Search/hockey player sreejesh - Google Search15.png',\n",
       "  '/home/gouri/Documents/jupiter/git/ML models/IMAGE_RECOGNITION/sports celebirty/cropped/hockey player sreejesh - Google Search/hockey player sreejesh - Google Search19.png',\n",
       "  '/home/gouri/Documents/jupiter/git/ML models/IMAGE_RECOGNITION/sports celebirty/cropped/hockey player sreejesh - Google Search/hockey player sreejesh - Google Search5.png',\n",
       "  '/home/gouri/Documents/jupiter/git/ML models/IMAGE_RECOGNITION/sports celebirty/cropped/hockey player sreejesh - Google Search/hockey player sreejesh - Google Search4.png',\n",
       "  '/home/gouri/Documents/jupiter/git/ML models/IMAGE_RECOGNITION/sports celebirty/cropped/hockey player sreejesh - Google Search/hockey player sreejesh - Google Search24.png',\n",
       "  '/home/gouri/Documents/jupiter/git/ML models/IMAGE_RECOGNITION/sports celebirty/cropped/hockey player sreejesh - Google Search/hockey player sreejesh - Google Search16.png',\n",
       "  '/home/gouri/Documents/jupiter/git/ML models/IMAGE_RECOGNITION/sports celebirty/cropped/hockey player sreejesh - Google Search/hockey player sreejesh - Google Search8.png',\n",
       "  '/home/gouri/Documents/jupiter/git/ML models/IMAGE_RECOGNITION/sports celebirty/cropped/hockey player sreejesh - Google Search/hockey player sreejesh - Google Search13.png',\n",
       "  '/home/gouri/Documents/jupiter/git/ML models/IMAGE_RECOGNITION/sports celebirty/cropped/hockey player sreejesh - Google Search/hockey player sreejesh - Google Search22.png',\n",
       "  '/home/gouri/Documents/jupiter/git/ML models/IMAGE_RECOGNITION/sports celebirty/cropped/hockey player sreejesh - Google Search/hockey player sreejesh - Google Search18.png',\n",
       "  '/home/gouri/Documents/jupiter/git/ML models/IMAGE_RECOGNITION/sports celebirty/cropped/hockey player sreejesh - Google Search/hockey player sreejesh - Google Search17.png',\n",
       "  '/home/gouri/Documents/jupiter/git/ML models/IMAGE_RECOGNITION/sports celebirty/cropped/hockey player sreejesh - Google Search/hockey player sreejesh - Google Search11.png',\n",
       "  '/home/gouri/Documents/jupiter/git/ML models/IMAGE_RECOGNITION/sports celebirty/cropped/hockey player sreejesh - Google Search/hockey player sreejesh - Google Search3.png']}"
      ]
     },
     "execution_count": 20,
     "metadata": {},
     "output_type": "execute_result"
    }
   ],
   "source": [
    "celebrity_file_name_dict = {}\n",
    "for image_directory in cropped_image_dirs:\n",
    "    #print(image_directory)\n",
    "    celebrity_name = image_directory.split('/')[-1]\n",
    "    file_list = []\n",
    "    for entry in os.scandir(image_directory):\n",
    "        file_list.append(entry.path)\n",
    "    celebrity_file_name_dict[celebrity_name] = file_list\n",
    "celebrity_file_name_dict"
   ]
  },
  {
   "cell_type": "code",
   "execution_count": 21,
   "id": "c498ec2b",
   "metadata": {},
   "outputs": [
    {
     "data": {
      "text/plain": [
       "{'suryakumar yadav images - Google Search': 0,\n",
       " 'sunil chhetri - Google Search': 1,\n",
       " 'batmindon player srikanth - Google Search': 2,\n",
       " 'pv sindhu - Google Search': 3,\n",
       " 'hockey player sreejesh - Google Search': 4}"
      ]
     },
     "execution_count": 21,
     "metadata": {},
     "output_type": "execute_result"
    }
   ],
   "source": [
    "class_dict = {}\n",
    "count = 0\n",
    "for celebrity_name in celebrity_file_name_dict.keys():\n",
    "    class_dict[celebrity_name]  = count\n",
    "    count = count+1\n",
    "class_dict"
   ]
  },
  {
   "cell_type": "markdown",
   "id": "37377666",
   "metadata": {},
   "source": [
    "performing wavelet transform"
   ]
  },
  {
   "cell_type": "code",
   "execution_count": 22,
   "id": "7a8432df",
   "metadata": {},
   "outputs": [],
   "source": [
    "import numpy as np\n",
    "import pywt\n",
    "import cv2    \n",
    "\n",
    "def w2d(img, mode='haar', level=1):\n",
    "    imArray = img\n",
    "    #Datatype conversions\n",
    "    #convert to grayscale\n",
    "    imArray = cv2.cvtColor( imArray,cv2.COLOR_RGB2GRAY )\n",
    "    #convert to float\n",
    "    imArray =  np.float32(imArray)   \n",
    "    imArray /= 255;\n",
    "    # compute coefficients \n",
    "    coeffs=pywt.wavedec2(imArray, mode, level=level)\n",
    "\n",
    "    #Process Coefficients\n",
    "    coeffs_H=list(coeffs)  \n",
    "    coeffs_H[0] *= 0;  \n",
    "\n",
    "    # reconstruction\n",
    "    imArray_H=pywt.waverec2(coeffs_H, mode);\n",
    "    imArray_H *= 255;\n",
    "    imArray_H =  np.uint8(imArray_H)\n",
    "\n",
    "    return imArray_H"
   ]
  },
  {
   "cell_type": "code",
   "execution_count": 23,
   "id": "6c7c5945",
   "metadata": {},
   "outputs": [],
   "source": [
    "x, y = [], []\n",
    "for celebrity_name, training_files in celebrity_file_name_dict.items():\n",
    "    for training_image in training_files:\n",
    "        img = cv2.imread(training_image)\n",
    "        scalled_raw_img = cv2.resize(img, (32, 32))\n",
    "        img_har = w2d(img,'db1',5)\n",
    "        scalled_img_har = cv2.resize(img_har, (32, 32))\n",
    "        combined_img = np.vstack((scalled_raw_img.reshape(32*32*3,1),scalled_img_har.reshape(32*32,1)))\n",
    "        x.append(combined_img)\n",
    "        y.append(class_dict[celebrity_name])    "
   ]
  },
  {
   "cell_type": "code",
   "execution_count": 24,
   "id": "5d8f8e9d",
   "metadata": {},
   "outputs": [
    {
     "data": {
      "text/plain": [
       "4096"
      ]
     },
     "execution_count": 24,
     "metadata": {},
     "output_type": "execute_result"
    }
   ],
   "source": [
    "len(x[1])"
   ]
  },
  {
   "cell_type": "code",
   "execution_count": 25,
   "id": "3d727255",
   "metadata": {},
   "outputs": [
    {
     "data": {
      "text/plain": [
       "array([[ 42],\n",
       "       [ 59],\n",
       "       [ 73],\n",
       "       ...,\n",
       "       [243],\n",
       "       [196],\n",
       "       [ 91]], dtype=uint8)"
      ]
     },
     "execution_count": 25,
     "metadata": {},
     "output_type": "execute_result"
    }
   ],
   "source": [
    "x[0]"
   ]
  },
  {
   "cell_type": "code",
   "execution_count": 26,
   "id": "f6cd058d",
   "metadata": {},
   "outputs": [
    {
     "data": {
      "text/plain": [
       "0"
      ]
     },
     "execution_count": 26,
     "metadata": {},
     "output_type": "execute_result"
    }
   ],
   "source": [
    "y[1]"
   ]
  },
  {
   "cell_type": "code",
   "execution_count": 27,
   "id": "5b5462bf",
   "metadata": {},
   "outputs": [],
   "source": [
    "#converting to float to avoid errors"
   ]
  },
  {
   "cell_type": "code",
   "execution_count": 28,
   "id": "84527bf4",
   "metadata": {},
   "outputs": [
    {
     "data": {
      "text/plain": [
       "(160, 4096)"
      ]
     },
     "execution_count": 28,
     "metadata": {},
     "output_type": "execute_result"
    }
   ],
   "source": [
    "x = np.array(x).reshape(len(x),4096).astype(float)\n",
    "x.shape"
   ]
  },
  {
   "cell_type": "markdown",
   "id": "4f0431b3",
   "metadata": {},
   "source": [
    "Traning the model"
   ]
  },
  {
   "cell_type": "code",
   "execution_count": 32,
   "id": "ce735dc4",
   "metadata": {},
   "outputs": [
    {
     "data": {
      "text/plain": [
       "0.75"
      ]
     },
     "execution_count": 32,
     "metadata": {},
     "output_type": "execute_result"
    }
   ],
   "source": [
    "from sklearn.svm import SVC\n",
    "from sklearn.preprocessing import StandardScaler\n",
    "from sklearn.pipeline import Pipeline\n",
    "from sklearn.ensemble import RandomForestClassifier\n",
    "from sklearn.model_selection import train_test_split\n",
    "\n",
    "x_train,x_test,y_train,y_test = train_test_split(x,y,random_state=0)\n",
    "\n",
    "pipe = Pipeline([('scaler',StandardScaler()),('Random',RandomForestClassifier())])\n",
    "pipe.fit(x_train,y_train)\n",
    "pipe.score(x_test,y_test)"
   ]
  },
  {
   "cell_type": "code",
   "execution_count": 35,
   "id": "346b7ab3",
   "metadata": {},
   "outputs": [],
   "source": [
    "from sklearn.model_selection import GridSearchCV\n",
    "model = "
   ]
  },
  {
   "cell_type": "code",
   "execution_count": null,
   "id": "5a41e180",
   "metadata": {},
   "outputs": [],
   "source": []
  },
  {
   "cell_type": "code",
   "execution_count": null,
   "id": "fcee7b85",
   "metadata": {},
   "outputs": [],
   "source": []
  },
  {
   "cell_type": "code",
   "execution_count": null,
   "id": "80b2671d",
   "metadata": {},
   "outputs": [],
   "source": []
  },
  {
   "cell_type": "code",
   "execution_count": null,
   "id": "a53bf640",
   "metadata": {},
   "outputs": [],
   "source": []
  },
  {
   "cell_type": "code",
   "execution_count": null,
   "id": "79b1f8c6",
   "metadata": {},
   "outputs": [],
   "source": []
  }
 ],
 "metadata": {
  "kernelspec": {
   "display_name": "Python 3 (ipykernel)",
   "language": "python",
   "name": "python3"
  },
  "language_info": {
   "codemirror_mode": {
    "name": "ipython",
    "version": 3
   },
   "file_extension": ".py",
   "mimetype": "text/x-python",
   "name": "python",
   "nbconvert_exporter": "python",
   "pygments_lexer": "ipython3",
   "version": "3.10.6"
  }
 },
 "nbformat": 4,
 "nbformat_minor": 5
}
